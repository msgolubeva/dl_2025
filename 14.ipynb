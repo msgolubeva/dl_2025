{
 "cells": [
  {
   "cell_type": "code",
   "execution_count": 1,
   "id": "43af3f8d-f09a-4ca4-b48e-734579072d68",
   "metadata": {
    "ExecuteTime": {
     "end_time": "2025-05-18T09:15:43.380024Z",
     "start_time": "2025-05-18T09:15:31.576937Z"
    },
    "execution": {
     "iopub.execute_input": "2025-05-18T17:33:49.031611Z",
     "iopub.status.busy": "2025-05-18T17:33:49.030734Z",
     "iopub.status.idle": "2025-05-18T17:33:49.085107Z",
     "shell.execute_reply": "2025-05-18T17:33:49.084306Z",
     "shell.execute_reply.started": "2025-05-18T17:33:49.031583Z"
    },
    "tags": []
   },
   "outputs": [],
   "source": [
    "#%pip install --upgrade transformers==4.30.1\n",
    "# %pip install emoji"
   ]
  },
  {
   "cell_type": "code",
   "execution_count": 3,
   "id": "04b48900-b5e7-49b9-8f5b-bd665114fba4",
   "metadata": {
    "execution": {
     "iopub.execute_input": "2025-05-18T20:34:28.541254Z",
     "iopub.status.busy": "2025-05-18T20:34:28.540215Z",
     "iopub.status.idle": "2025-05-18T20:34:31.829626Z",
     "shell.execute_reply": "2025-05-18T20:34:31.828859Z",
     "shell.execute_reply.started": "2025-05-18T20:34:28.541212Z"
    },
    "tags": []
   },
   "outputs": [],
   "source": [
    "import torch\n",
    "import torch.nn as nn\n",
    "import torch.optim as optim\n",
    "from torch.optim import AdamW\n",
    "from torchvision import models, transforms, datasets\n",
    "from torch.utils.data import DataLoader, Subset, Dataset\n",
    "from torchvision.datasets import ImageFolder\n",
    "\n",
    "from sklearn.model_selection import train_test_split\n",
    "from sklearn.metrics import accuracy_score\n",
    "\n",
    "import numpy as np\n",
    "import pandas as pd\n",
    "import matplotlib.pyplot as plt\n",
    "import seaborn as sns\n",
    "import os\n",
    "from tqdm import tqdm\n",
    "from PIL import Image\n",
    "from collections import Counter\n",
    "from collections import defaultdict\n",
    "\n",
    "from sklearn.feature_extraction.text import TfidfVectorizer\n",
    "from sklearn.pipeline import Pipeline\n",
    "import re\n",
    "from sklearn.preprocessing import Normalizer\n",
    "from nltk.corpus import stopwords\n",
    "import nltk\n",
    "from gensim.models import Word2Vec\n",
    "from nltk.tokenize import word_tokenize\n",
    "from sklearn.base import BaseEstimator, TransformerMixin\n",
    "from pymorphy3 import MorphAnalyzer\n",
    "from torch.nn.utils.rnn import pad_sequence\n",
    "from nltk.tokenize import word_tokenize\n",
    "import emoji\n",
    "from typing import List, Tuple, Dict\n",
    "from transformers import AutoTokenizer\n",
    "\n",
    "from transformers import AutoModelForSequenceClassification\n",
    "from sklearn.pipeline import Pipeline\n",
    "from sklearn.multioutput import MultiOutputClassifier\n",
    "from sklearn.ensemble import RandomForestClassifier\n",
    "from sklearn.metrics import classification_report, f1_score\n",
    "\n",
    "import torch.nn.functional as F"
   ]
  },
  {
   "cell_type": "code",
   "execution_count": 4,
   "id": "3a17d662-c8f2-4154-b6a9-f79a84360b03",
   "metadata": {
    "execution": {
     "iopub.execute_input": "2025-05-18T20:34:31.831454Z",
     "iopub.status.busy": "2025-05-18T20:34:31.830814Z",
     "iopub.status.idle": "2025-05-18T20:34:32.527441Z",
     "shell.execute_reply": "2025-05-18T20:34:32.526725Z",
     "shell.execute_reply.started": "2025-05-18T20:34:31.831417Z"
    },
    "tags": []
   },
   "outputs": [],
   "source": [
    "train = pd.read_csv('train.csv', encoding=\"UTF-8\")\n",
    "test = pd.read_csv('test.csv', encoding=\"UTF-8\")"
   ]
  },
  {
   "cell_type": "code",
   "execution_count": 5,
   "id": "97a249de-00d0-4d7e-953e-3158af8678f1",
   "metadata": {
    "execution": {
     "iopub.execute_input": "2025-05-18T20:34:32.529424Z",
     "iopub.status.busy": "2025-05-18T20:34:32.528346Z",
     "iopub.status.idle": "2025-05-18T20:34:32.551007Z",
     "shell.execute_reply": "2025-05-18T20:34:32.550353Z",
     "shell.execute_reply.started": "2025-05-18T20:34:32.529388Z"
    },
    "tags": []
   },
   "outputs": [
    {
     "data": {
      "text/html": [
       "<div>\n",
       "<style scoped>\n",
       "    .dataframe tbody tr th:only-of-type {\n",
       "        vertical-align: middle;\n",
       "    }\n",
       "\n",
       "    .dataframe tbody tr th {\n",
       "        vertical-align: top;\n",
       "    }\n",
       "\n",
       "    .dataframe thead th {\n",
       "        text-align: right;\n",
       "    }\n",
       "</style>\n",
       "<table border=\"1\" class=\"dataframe\">\n",
       "  <thead>\n",
       "    <tr style=\"text-align: right;\">\n",
       "      <th></th>\n",
       "      <th>id</th>\n",
       "      <th>text</th>\n",
       "      <th>labels</th>\n",
       "    </tr>\n",
       "  </thead>\n",
       "  <tbody>\n",
       "    <tr>\n",
       "      <th>0</th>\n",
       "      <td>0</td>\n",
       "      <td>15 января\\nДетская развлекательная программа\\n...</td>\n",
       "      <td>1 0 0 0 1 0 0 0 1 0 0 0 1 1 1 1 1 0 0 1</td>\n",
       "    </tr>\n",
       "    <tr>\n",
       "      <th>1</th>\n",
       "      <td>1</td>\n",
       "      <td>13 и 14 августа\\nВыходные в Меге\\nhttps://t.me...</td>\n",
       "      <td>0 0 0 1 0 0 0 0 1 0 0 0 1 1 0 1 1 0 0 1</td>\n",
       "    </tr>\n",
       "    <tr>\n",
       "      <th>2</th>\n",
       "      <td>2</td>\n",
       "      <td>Йокнапатофа\\nПостановка Театр им. Маяковского\\...</td>\n",
       "      <td>0 0 0 0 1 0 0 0 0 0 0 0 1 1 0 1 1 0 0 1</td>\n",
       "    </tr>\n",
       "    <tr>\n",
       "      <th>3</th>\n",
       "      <td>3</td>\n",
       "      <td>Впервые в Уфе танцевальная терапия в группе с ...</td>\n",
       "      <td>1 1 0 0 1 0 0 1 1 1 1 1 1 1 1 0 0 1 1 0</td>\n",
       "    </tr>\n",
       "    <tr>\n",
       "      <th>4</th>\n",
       "      <td>4</td>\n",
       "      <td>🎹\\nGRAND PIANO COMPETITION\\n🎹\\nДрузья, сегодня...</td>\n",
       "      <td>1 1 0 0 0 0 0 1 1 0 0 1 1 1 1 0 1 1 1 0</td>\n",
       "    </tr>\n",
       "    <tr>\n",
       "      <th>...</th>\n",
       "      <td>...</td>\n",
       "      <td>...</td>\n",
       "      <td>...</td>\n",
       "    </tr>\n",
       "    <tr>\n",
       "      <th>29563</th>\n",
       "      <td>29563</td>\n",
       "      <td>Выступление Симфо-группы TEODOR\\n⠀\\n22 июля в ...</td>\n",
       "      <td>0 0 0 0 0 0 0 1 1 0 0 0 0 1 0 1 1 1 1 0</td>\n",
       "    </tr>\n",
       "    <tr>\n",
       "      <th>29564</th>\n",
       "      <td>29564</td>\n",
       "      <td>🔤\\nЮЗИКЛ \"МОНТЕ-КРИСТО\" ТЕАТР ОПЕРЕТТЫ\\nЭто оч...</td>\n",
       "      <td>1 1 1 0 0 0 0 1 0 1 1 1 0 1 1 0 1 1 1 0</td>\n",
       "    </tr>\n",
       "    <tr>\n",
       "      <th>29565</th>\n",
       "      <td>29565</td>\n",
       "      <td>РАСПИСАНИЕ БЕСПЛАТНЫХ ЭКСКУРСИЙ\\nв октябре 202...</td>\n",
       "      <td>1 1 0 0 1 0 0 1 1 1 1 1 1 1 1 1 1 1 1 0</td>\n",
       "    </tr>\n",
       "    <tr>\n",
       "      <th>29566</th>\n",
       "      <td>29566</td>\n",
       "      <td>Долгожданный концерт Надежды Кадышевой в Рязан...</td>\n",
       "      <td>1 0 1 0 0 0 0 1 0 1 1 1 0 1 1 0 0 1 1 0</td>\n",
       "    </tr>\n",
       "    <tr>\n",
       "      <th>29567</th>\n",
       "      <td>29567</td>\n",
       "      <td>Спектакль-победитель фестиваля «Амурская осень...</td>\n",
       "      <td>0 1 0 0 1 0 0 1 1 1 0 0 1 0 1 0 1 1 1 0</td>\n",
       "    </tr>\n",
       "  </tbody>\n",
       "</table>\n",
       "<p>29568 rows × 3 columns</p>\n",
       "</div>"
      ],
      "text/plain": [
       "          id  ...                                   labels\n",
       "0          0  ...  1 0 0 0 1 0 0 0 1 0 0 0 1 1 1 1 1 0 0 1\n",
       "1          1  ...  0 0 0 1 0 0 0 0 1 0 0 0 1 1 0 1 1 0 0 1\n",
       "2          2  ...  0 0 0 0 1 0 0 0 0 0 0 0 1 1 0 1 1 0 0 1\n",
       "3          3  ...  1 1 0 0 1 0 0 1 1 1 1 1 1 1 1 0 0 1 1 0\n",
       "4          4  ...  1 1 0 0 0 0 0 1 1 0 0 1 1 1 1 0 1 1 1 0\n",
       "...      ...  ...                                      ...\n",
       "29563  29563  ...  0 0 0 0 0 0 0 1 1 0 0 0 0 1 0 1 1 1 1 0\n",
       "29564  29564  ...  1 1 1 0 0 0 0 1 0 1 1 1 0 1 1 0 1 1 1 0\n",
       "29565  29565  ...  1 1 0 0 1 0 0 1 1 1 1 1 1 1 1 1 1 1 1 0\n",
       "29566  29566  ...  1 0 1 0 0 0 0 1 0 1 1 1 0 1 1 0 0 1 1 0\n",
       "29567  29567  ...  0 1 0 0 1 0 0 1 1 1 0 0 1 0 1 0 1 1 1 0\n",
       "\n",
       "[29568 rows x 3 columns]"
      ]
     },
     "execution_count": 5,
     "metadata": {},
     "output_type": "execute_result"
    }
   ],
   "source": [
    "train"
   ]
  },
  {
   "cell_type": "code",
   "execution_count": 6,
   "id": "5546dfab-4a79-4c20-bb35-80dad1690e8f",
   "metadata": {
    "execution": {
     "iopub.execute_input": "2025-05-18T20:34:32.552791Z",
     "iopub.status.busy": "2025-05-18T20:34:32.552347Z",
     "iopub.status.idle": "2025-05-18T20:34:32.573274Z",
     "shell.execute_reply": "2025-05-18T20:34:32.572641Z",
     "shell.execute_reply.started": "2025-05-18T20:34:32.552759Z"
    },
    "tags": []
   },
   "outputs": [
    {
     "data": {
      "text/html": [
       "<div>\n",
       "<style scoped>\n",
       "    .dataframe tbody tr th:only-of-type {\n",
       "        vertical-align: middle;\n",
       "    }\n",
       "\n",
       "    .dataframe tbody tr th {\n",
       "        vertical-align: top;\n",
       "    }\n",
       "\n",
       "    .dataframe thead th {\n",
       "        text-align: right;\n",
       "    }\n",
       "</style>\n",
       "<table border=\"1\" class=\"dataframe\">\n",
       "  <thead>\n",
       "    <tr style=\"text-align: right;\">\n",
       "      <th></th>\n",
       "      <th>id</th>\n",
       "      <th>text</th>\n",
       "    </tr>\n",
       "  </thead>\n",
       "  <tbody>\n",
       "    <tr>\n",
       "      <th>0</th>\n",
       "      <td>29568</td>\n",
       "      <td>ЭЙ, ВЛЮБЛЁННЫЕ\\nСкидка 20% промокоду SYHOYZ\\nн...</td>\n",
       "    </tr>\n",
       "    <tr>\n",
       "      <th>1</th>\n",
       "      <td>29569</td>\n",
       "      <td>Пруды Москвы</td>\n",
       "    </tr>\n",
       "    <tr>\n",
       "      <th>2</th>\n",
       "      <td>29570</td>\n",
       "      <td>🤪\\n🤪\\n👏\\n👏\\n😄\\n😄\\n👏\\n👏\\n👨‍👩‍👦\\nСемейка лёгкого...</td>\n",
       "    </tr>\n",
       "    <tr>\n",
       "      <th>3</th>\n",
       "      <td>29571</td>\n",
       "      <td>24 СЕНТЯБРЯ\\nИсторический фестиваль «Башкирия ...</td>\n",
       "    </tr>\n",
       "    <tr>\n",
       "      <th>4</th>\n",
       "      <td>29572</td>\n",
       "      <td>19-20 августа\\nДетский клуб в кафе «Отдых»\\nТе...</td>\n",
       "    </tr>\n",
       "    <tr>\n",
       "      <th>...</th>\n",
       "      <td>...</td>\n",
       "      <td>...</td>\n",
       "    </tr>\n",
       "    <tr>\n",
       "      <th>7387</th>\n",
       "      <td>36955</td>\n",
       "      <td>Концерт «Stabat Mater»\\n24 и 25 марта в 20:00\\...</td>\n",
       "    </tr>\n",
       "    <tr>\n",
       "      <th>7388</th>\n",
       "      <td>36956</td>\n",
       "      <td>СПЕКТАКЛЬ «ОДНАЖДЫ…»\\nСпектакль для 1 зрителя....</td>\n",
       "    </tr>\n",
       "    <tr>\n",
       "      <th>7389</th>\n",
       "      <td>36957</td>\n",
       "      <td>вт.-пт. 10:00-20:00 можно бесплатно полетать н...</td>\n",
       "    </tr>\n",
       "    <tr>\n",
       "      <th>7390</th>\n",
       "      <td>36958</td>\n",
       "      <td>ТЕАТРАЛЬНЫЙ СЕЗОН \"НА ВОДАХ\"\\nс 1 по 9 апреля ...</td>\n",
       "    </tr>\n",
       "    <tr>\n",
       "      <th>7391</th>\n",
       "      <td>36959</td>\n",
       "      <td>Атмосферный концерт \"Скрипка Паганини при свеч...</td>\n",
       "    </tr>\n",
       "  </tbody>\n",
       "</table>\n",
       "<p>7392 rows × 2 columns</p>\n",
       "</div>"
      ],
      "text/plain": [
       "         id                                               text\n",
       "0     29568  ЭЙ, ВЛЮБЛЁННЫЕ\\nСкидка 20% промокоду SYHOYZ\\nн...\n",
       "1     29569                                       Пруды Москвы\n",
       "2     29570  🤪\\n🤪\\n👏\\n👏\\n😄\\n😄\\n👏\\n👏\\n👨‍👩‍👦\\nСемейка лёгкого...\n",
       "3     29571  24 СЕНТЯБРЯ\\nИсторический фестиваль «Башкирия ...\n",
       "4     29572  19-20 августа\\nДетский клуб в кафе «Отдых»\\nТе...\n",
       "...     ...                                                ...\n",
       "7387  36955  Концерт «Stabat Mater»\\n24 и 25 марта в 20:00\\...\n",
       "7388  36956  СПЕКТАКЛЬ «ОДНАЖДЫ…»\\nСпектакль для 1 зрителя....\n",
       "7389  36957  вт.-пт. 10:00-20:00 можно бесплатно полетать н...\n",
       "7390  36958  ТЕАТРАЛЬНЫЙ СЕЗОН \"НА ВОДАХ\"\\nс 1 по 9 апреля ...\n",
       "7391  36959  Атмосферный концерт \"Скрипка Паганини при свеч...\n",
       "\n",
       "[7392 rows x 2 columns]"
      ]
     },
     "execution_count": 6,
     "metadata": {},
     "output_type": "execute_result"
    }
   ],
   "source": [
    "test"
   ]
  },
  {
   "cell_type": "markdown",
   "id": "6906596d54da1227",
   "metadata": {
    "tags": []
   },
   "source": [
    "# Анализ данных"
   ]
  },
  {
   "cell_type": "code",
   "execution_count": 7,
   "id": "2e3078f7-48c1-43c5-a87f-e3ed810c7afa",
   "metadata": {
    "execution": {
     "iopub.execute_input": "2025-05-18T20:34:36.417857Z",
     "iopub.status.busy": "2025-05-18T20:34:36.416901Z",
     "iopub.status.idle": "2025-05-18T20:34:36.437646Z",
     "shell.execute_reply": "2025-05-18T20:34:36.437019Z",
     "shell.execute_reply.started": "2025-05-18T20:34:36.417824Z"
    },
    "tags": []
   },
   "outputs": [
    {
     "data": {
      "text/html": [
       "<div>\n",
       "<style scoped>\n",
       "    .dataframe tbody tr th:only-of-type {\n",
       "        vertical-align: middle;\n",
       "    }\n",
       "\n",
       "    .dataframe tbody tr th {\n",
       "        vertical-align: top;\n",
       "    }\n",
       "\n",
       "    .dataframe thead th {\n",
       "        text-align: right;\n",
       "    }\n",
       "</style>\n",
       "<table border=\"1\" class=\"dataframe\">\n",
       "  <thead>\n",
       "    <tr style=\"text-align: right;\">\n",
       "      <th></th>\n",
       "      <th>0</th>\n",
       "    </tr>\n",
       "  </thead>\n",
       "  <tbody>\n",
       "    <tr>\n",
       "      <th>0</th>\n",
       "      <td>1 0 0 0 1 0 0 0 1 0 0 0 1 1 1 1 1 0 0 1</td>\n",
       "    </tr>\n",
       "    <tr>\n",
       "      <th>1</th>\n",
       "      <td>0 0 0 1 0 0 0 0 1 0 0 0 1 1 0 1 1 0 0 1</td>\n",
       "    </tr>\n",
       "    <tr>\n",
       "      <th>2</th>\n",
       "      <td>0 0 0 0 1 0 0 0 0 0 0 0 1 1 0 1 1 0 0 1</td>\n",
       "    </tr>\n",
       "    <tr>\n",
       "      <th>3</th>\n",
       "      <td>1 1 0 0 1 0 0 1 1 1 1 1 1 1 1 0 0 1 1 0</td>\n",
       "    </tr>\n",
       "    <tr>\n",
       "      <th>4</th>\n",
       "      <td>1 1 0 0 0 0 0 1 1 0 0 1 1 1 1 0 1 1 1 0</td>\n",
       "    </tr>\n",
       "    <tr>\n",
       "      <th>...</th>\n",
       "      <td>...</td>\n",
       "    </tr>\n",
       "    <tr>\n",
       "      <th>3535</th>\n",
       "      <td>0 0 0 0 1 0 0 0 1 1 0 1 0 1 0 0 1 1 1 0</td>\n",
       "    </tr>\n",
       "    <tr>\n",
       "      <th>3536</th>\n",
       "      <td>1 0 0 0 0 0 0 0 1 0 0 1 1 1 1 0 1 1 1 0</td>\n",
       "    </tr>\n",
       "    <tr>\n",
       "      <th>3537</th>\n",
       "      <td>1 1 0 0 0 0 0 1 0 1 1 1 1 0 1 1 1 1 1 0</td>\n",
       "    </tr>\n",
       "    <tr>\n",
       "      <th>3538</th>\n",
       "      <td>1 1 1 0 1 0 0 1 0 0 0 1 1 1 1 0 1 1 1 0</td>\n",
       "    </tr>\n",
       "    <tr>\n",
       "      <th>3539</th>\n",
       "      <td>1 1 0 0 1 0 0 1 1 1 0 0 1 1 0 1 1 0 1 1</td>\n",
       "    </tr>\n",
       "  </tbody>\n",
       "</table>\n",
       "<p>3540 rows × 1 columns</p>\n",
       "</div>"
      ],
      "text/plain": [
       "                                            0\n",
       "0     1 0 0 0 1 0 0 0 1 0 0 0 1 1 1 1 1 0 0 1\n",
       "1     0 0 0 1 0 0 0 0 1 0 0 0 1 1 0 1 1 0 0 1\n",
       "2     0 0 0 0 1 0 0 0 0 0 0 0 1 1 0 1 1 0 0 1\n",
       "3     1 1 0 0 1 0 0 1 1 1 1 1 1 1 1 0 0 1 1 0\n",
       "4     1 1 0 0 0 0 0 1 1 0 0 1 1 1 1 0 1 1 1 0\n",
       "...                                       ...\n",
       "3535  0 0 0 0 1 0 0 0 1 1 0 1 0 1 0 0 1 1 1 0\n",
       "3536  1 0 0 0 0 0 0 0 1 0 0 1 1 1 1 0 1 1 1 0\n",
       "3537  1 1 0 0 0 0 0 1 0 1 1 1 1 0 1 1 1 1 1 0\n",
       "3538  1 1 1 0 1 0 0 1 0 0 0 1 1 1 1 0 1 1 1 0\n",
       "3539  1 1 0 0 1 0 0 1 1 1 0 0 1 1 0 1 1 0 1 1\n",
       "\n",
       "[3540 rows x 1 columns]"
      ]
     },
     "execution_count": 7,
     "metadata": {},
     "output_type": "execute_result"
    }
   ],
   "source": [
    "lbls = pd.DataFrame(train['labels'].unique())\n",
    "lbls"
   ]
  },
  {
   "cell_type": "code",
   "execution_count": 8,
   "id": "6850b924-2c6d-43eb-84d2-404de2080b55",
   "metadata": {
    "execution": {
     "iopub.execute_input": "2025-05-18T20:34:36.902233Z",
     "iopub.status.busy": "2025-05-18T20:34:36.901364Z",
     "iopub.status.idle": "2025-05-18T20:34:38.839993Z",
     "shell.execute_reply": "2025-05-18T20:34:38.839349Z",
     "shell.execute_reply.started": "2025-05-18T20:34:36.902194Z"
    },
    "tags": []
   },
   "outputs": [
    {
     "data": {
      "text/html": [
       "<div>\n",
       "<style scoped>\n",
       "    .dataframe tbody tr th:only-of-type {\n",
       "        vertical-align: middle;\n",
       "    }\n",
       "\n",
       "    .dataframe tbody tr th {\n",
       "        vertical-align: top;\n",
       "    }\n",
       "\n",
       "    .dataframe thead th {\n",
       "        text-align: right;\n",
       "    }\n",
       "</style>\n",
       "<table border=\"1\" class=\"dataframe\">\n",
       "  <thead>\n",
       "    <tr style=\"text-align: right;\">\n",
       "      <th></th>\n",
       "      <th>id</th>\n",
       "      <th>text</th>\n",
       "      <th>labels</th>\n",
       "      <th>label_0</th>\n",
       "      <th>label_1</th>\n",
       "      <th>label_2</th>\n",
       "      <th>label_3</th>\n",
       "      <th>label_4</th>\n",
       "      <th>label_5</th>\n",
       "      <th>label_6</th>\n",
       "      <th>label_7</th>\n",
       "      <th>label_8</th>\n",
       "      <th>label_9</th>\n",
       "      <th>label_10</th>\n",
       "      <th>label_11</th>\n",
       "      <th>label_12</th>\n",
       "      <th>label_13</th>\n",
       "      <th>label_14</th>\n",
       "      <th>label_15</th>\n",
       "      <th>label_16</th>\n",
       "      <th>label_17</th>\n",
       "      <th>label_18</th>\n",
       "      <th>label_19</th>\n",
       "    </tr>\n",
       "  </thead>\n",
       "  <tbody>\n",
       "    <tr>\n",
       "      <th>0</th>\n",
       "      <td>0</td>\n",
       "      <td>15 января\\nДетская развлекательная программа\\n...</td>\n",
       "      <td>[1, 0, 0, 0, 1, 0, 0, 0, 1, 0, 0, 0, 1, 1, 1, ...</td>\n",
       "      <td>1</td>\n",
       "      <td>0</td>\n",
       "      <td>0</td>\n",
       "      <td>0</td>\n",
       "      <td>1</td>\n",
       "      <td>0</td>\n",
       "      <td>0</td>\n",
       "      <td>0</td>\n",
       "      <td>1</td>\n",
       "      <td>0</td>\n",
       "      <td>0</td>\n",
       "      <td>0</td>\n",
       "      <td>1</td>\n",
       "      <td>1</td>\n",
       "      <td>1</td>\n",
       "      <td>1</td>\n",
       "      <td>1</td>\n",
       "      <td>0</td>\n",
       "      <td>0</td>\n",
       "      <td>1</td>\n",
       "    </tr>\n",
       "    <tr>\n",
       "      <th>1</th>\n",
       "      <td>1</td>\n",
       "      <td>13 и 14 августа\\nВыходные в Меге\\nhttps://t.me...</td>\n",
       "      <td>[0, 0, 0, 1, 0, 0, 0, 0, 1, 0, 0, 0, 1, 1, 0, ...</td>\n",
       "      <td>0</td>\n",
       "      <td>0</td>\n",
       "      <td>0</td>\n",
       "      <td>1</td>\n",
       "      <td>0</td>\n",
       "      <td>0</td>\n",
       "      <td>0</td>\n",
       "      <td>0</td>\n",
       "      <td>1</td>\n",
       "      <td>0</td>\n",
       "      <td>0</td>\n",
       "      <td>0</td>\n",
       "      <td>1</td>\n",
       "      <td>1</td>\n",
       "      <td>0</td>\n",
       "      <td>1</td>\n",
       "      <td>1</td>\n",
       "      <td>0</td>\n",
       "      <td>0</td>\n",
       "      <td>1</td>\n",
       "    </tr>\n",
       "    <tr>\n",
       "      <th>2</th>\n",
       "      <td>2</td>\n",
       "      <td>Йокнапатофа\\nПостановка Театр им. Маяковского\\...</td>\n",
       "      <td>[0, 0, 0, 0, 1, 0, 0, 0, 0, 0, 0, 0, 1, 1, 0, ...</td>\n",
       "      <td>0</td>\n",
       "      <td>0</td>\n",
       "      <td>0</td>\n",
       "      <td>0</td>\n",
       "      <td>1</td>\n",
       "      <td>0</td>\n",
       "      <td>0</td>\n",
       "      <td>0</td>\n",
       "      <td>0</td>\n",
       "      <td>0</td>\n",
       "      <td>0</td>\n",
       "      <td>0</td>\n",
       "      <td>1</td>\n",
       "      <td>1</td>\n",
       "      <td>0</td>\n",
       "      <td>1</td>\n",
       "      <td>1</td>\n",
       "      <td>0</td>\n",
       "      <td>0</td>\n",
       "      <td>1</td>\n",
       "    </tr>\n",
       "    <tr>\n",
       "      <th>3</th>\n",
       "      <td>3</td>\n",
       "      <td>Впервые в Уфе танцевальная терапия в группе с ...</td>\n",
       "      <td>[1, 1, 0, 0, 1, 0, 0, 1, 1, 1, 1, 1, 1, 1, 1, ...</td>\n",
       "      <td>1</td>\n",
       "      <td>1</td>\n",
       "      <td>0</td>\n",
       "      <td>0</td>\n",
       "      <td>1</td>\n",
       "      <td>0</td>\n",
       "      <td>0</td>\n",
       "      <td>1</td>\n",
       "      <td>1</td>\n",
       "      <td>1</td>\n",
       "      <td>1</td>\n",
       "      <td>1</td>\n",
       "      <td>1</td>\n",
       "      <td>1</td>\n",
       "      <td>1</td>\n",
       "      <td>0</td>\n",
       "      <td>0</td>\n",
       "      <td>1</td>\n",
       "      <td>1</td>\n",
       "      <td>0</td>\n",
       "    </tr>\n",
       "    <tr>\n",
       "      <th>4</th>\n",
       "      <td>4</td>\n",
       "      <td>🎹\\nGRAND PIANO COMPETITION\\n🎹\\nДрузья, сегодня...</td>\n",
       "      <td>[1, 1, 0, 0, 0, 0, 0, 1, 1, 0, 0, 1, 1, 1, 1, ...</td>\n",
       "      <td>1</td>\n",
       "      <td>1</td>\n",
       "      <td>0</td>\n",
       "      <td>0</td>\n",
       "      <td>0</td>\n",
       "      <td>0</td>\n",
       "      <td>0</td>\n",
       "      <td>1</td>\n",
       "      <td>1</td>\n",
       "      <td>0</td>\n",
       "      <td>0</td>\n",
       "      <td>1</td>\n",
       "      <td>1</td>\n",
       "      <td>1</td>\n",
       "      <td>1</td>\n",
       "      <td>0</td>\n",
       "      <td>1</td>\n",
       "      <td>1</td>\n",
       "      <td>1</td>\n",
       "      <td>0</td>\n",
       "    </tr>\n",
       "    <tr>\n",
       "      <th>...</th>\n",
       "      <td>...</td>\n",
       "      <td>...</td>\n",
       "      <td>...</td>\n",
       "      <td>...</td>\n",
       "      <td>...</td>\n",
       "      <td>...</td>\n",
       "      <td>...</td>\n",
       "      <td>...</td>\n",
       "      <td>...</td>\n",
       "      <td>...</td>\n",
       "      <td>...</td>\n",
       "      <td>...</td>\n",
       "      <td>...</td>\n",
       "      <td>...</td>\n",
       "      <td>...</td>\n",
       "      <td>...</td>\n",
       "      <td>...</td>\n",
       "      <td>...</td>\n",
       "      <td>...</td>\n",
       "      <td>...</td>\n",
       "      <td>...</td>\n",
       "      <td>...</td>\n",
       "      <td>...</td>\n",
       "    </tr>\n",
       "    <tr>\n",
       "      <th>29563</th>\n",
       "      <td>29563</td>\n",
       "      <td>Выступление Симфо-группы TEODOR\\n⠀\\n22 июля в ...</td>\n",
       "      <td>[0, 0, 0, 0, 0, 0, 0, 1, 1, 0, 0, 0, 0, 1, 0, ...</td>\n",
       "      <td>0</td>\n",
       "      <td>0</td>\n",
       "      <td>0</td>\n",
       "      <td>0</td>\n",
       "      <td>0</td>\n",
       "      <td>0</td>\n",
       "      <td>0</td>\n",
       "      <td>1</td>\n",
       "      <td>1</td>\n",
       "      <td>0</td>\n",
       "      <td>0</td>\n",
       "      <td>0</td>\n",
       "      <td>0</td>\n",
       "      <td>1</td>\n",
       "      <td>0</td>\n",
       "      <td>1</td>\n",
       "      <td>1</td>\n",
       "      <td>1</td>\n",
       "      <td>1</td>\n",
       "      <td>0</td>\n",
       "    </tr>\n",
       "    <tr>\n",
       "      <th>29564</th>\n",
       "      <td>29564</td>\n",
       "      <td>🔤\\nЮЗИКЛ \"МОНТЕ-КРИСТО\" ТЕАТР ОПЕРЕТТЫ\\nЭто оч...</td>\n",
       "      <td>[1, 1, 1, 0, 0, 0, 0, 1, 0, 1, 1, 1, 0, 1, 1, ...</td>\n",
       "      <td>1</td>\n",
       "      <td>1</td>\n",
       "      <td>1</td>\n",
       "      <td>0</td>\n",
       "      <td>0</td>\n",
       "      <td>0</td>\n",
       "      <td>0</td>\n",
       "      <td>1</td>\n",
       "      <td>0</td>\n",
       "      <td>1</td>\n",
       "      <td>1</td>\n",
       "      <td>1</td>\n",
       "      <td>0</td>\n",
       "      <td>1</td>\n",
       "      <td>1</td>\n",
       "      <td>0</td>\n",
       "      <td>1</td>\n",
       "      <td>1</td>\n",
       "      <td>1</td>\n",
       "      <td>0</td>\n",
       "    </tr>\n",
       "    <tr>\n",
       "      <th>29565</th>\n",
       "      <td>29565</td>\n",
       "      <td>РАСПИСАНИЕ БЕСПЛАТНЫХ ЭКСКУРСИЙ\\nв октябре 202...</td>\n",
       "      <td>[1, 1, 0, 0, 1, 0, 0, 1, 1, 1, 1, 1, 1, 1, 1, ...</td>\n",
       "      <td>1</td>\n",
       "      <td>1</td>\n",
       "      <td>0</td>\n",
       "      <td>0</td>\n",
       "      <td>1</td>\n",
       "      <td>0</td>\n",
       "      <td>0</td>\n",
       "      <td>1</td>\n",
       "      <td>1</td>\n",
       "      <td>1</td>\n",
       "      <td>1</td>\n",
       "      <td>1</td>\n",
       "      <td>1</td>\n",
       "      <td>1</td>\n",
       "      <td>1</td>\n",
       "      <td>1</td>\n",
       "      <td>1</td>\n",
       "      <td>1</td>\n",
       "      <td>1</td>\n",
       "      <td>0</td>\n",
       "    </tr>\n",
       "    <tr>\n",
       "      <th>29566</th>\n",
       "      <td>29566</td>\n",
       "      <td>Долгожданный концерт Надежды Кадышевой в Рязан...</td>\n",
       "      <td>[1, 0, 1, 0, 0, 0, 0, 1, 0, 1, 1, 1, 0, 1, 1, ...</td>\n",
       "      <td>1</td>\n",
       "      <td>0</td>\n",
       "      <td>1</td>\n",
       "      <td>0</td>\n",
       "      <td>0</td>\n",
       "      <td>0</td>\n",
       "      <td>0</td>\n",
       "      <td>1</td>\n",
       "      <td>0</td>\n",
       "      <td>1</td>\n",
       "      <td>1</td>\n",
       "      <td>1</td>\n",
       "      <td>0</td>\n",
       "      <td>1</td>\n",
       "      <td>1</td>\n",
       "      <td>0</td>\n",
       "      <td>0</td>\n",
       "      <td>1</td>\n",
       "      <td>1</td>\n",
       "      <td>0</td>\n",
       "    </tr>\n",
       "    <tr>\n",
       "      <th>29567</th>\n",
       "      <td>29567</td>\n",
       "      <td>Спектакль-победитель фестиваля «Амурская осень...</td>\n",
       "      <td>[0, 1, 0, 0, 1, 0, 0, 1, 1, 1, 0, 0, 1, 0, 1, ...</td>\n",
       "      <td>0</td>\n",
       "      <td>1</td>\n",
       "      <td>0</td>\n",
       "      <td>0</td>\n",
       "      <td>1</td>\n",
       "      <td>0</td>\n",
       "      <td>0</td>\n",
       "      <td>1</td>\n",
       "      <td>1</td>\n",
       "      <td>1</td>\n",
       "      <td>0</td>\n",
       "      <td>0</td>\n",
       "      <td>1</td>\n",
       "      <td>0</td>\n",
       "      <td>1</td>\n",
       "      <td>0</td>\n",
       "      <td>1</td>\n",
       "      <td>1</td>\n",
       "      <td>1</td>\n",
       "      <td>0</td>\n",
       "    </tr>\n",
       "  </tbody>\n",
       "</table>\n",
       "<p>29568 rows × 23 columns</p>\n",
       "</div>"
      ],
      "text/plain": [
       "          id  ... label_19\n",
       "0          0  ...        1\n",
       "1          1  ...        1\n",
       "2          2  ...        1\n",
       "3          3  ...        0\n",
       "4          4  ...        0\n",
       "...      ...  ...      ...\n",
       "29563  29563  ...        0\n",
       "29564  29564  ...        0\n",
       "29565  29565  ...        0\n",
       "29566  29566  ...        0\n",
       "29567  29567  ...        0\n",
       "\n",
       "[29568 rows x 23 columns]"
      ]
     },
     "execution_count": 8,
     "metadata": {},
     "output_type": "execute_result"
    }
   ],
   "source": [
    "train['labels'] = train['labels'].apply(lambda x: np.array(list(map(int, x.split()))))\n",
    "\n",
    "# Создаем отдельные колонки для каждого класса (label_0, label_1, ...)\n",
    "label_cols = [f'label_{i}' for i in range(20)]\n",
    "for i in range(20):\n",
    "    train[f'label_{i}'] = train['labels'].apply(lambda x: x[i])\n",
    "                                        \n",
    "train"
   ]
  },
  {
   "cell_type": "code",
   "execution_count": 9,
   "id": "7591b0d2-6817-4c24-b67f-d3bd1e88624b",
   "metadata": {
    "execution": {
     "iopub.execute_input": "2025-05-18T20:34:41.312077Z",
     "iopub.status.busy": "2025-05-18T20:34:41.311121Z",
     "iopub.status.idle": "2025-05-18T20:34:41.523963Z",
     "shell.execute_reply": "2025-05-18T20:34:41.523240Z",
     "shell.execute_reply.started": "2025-05-18T20:34:41.312036Z"
    },
    "tags": []
   },
   "outputs": [
    {
     "name": "stdout",
     "output_type": "stream",
     "text": [
      "label_18    24300\n",
      "label_17    23523\n",
      "label_8     23344\n",
      "label_12    23071\n",
      "label_13    22997\n",
      "label_7     22555\n",
      "label_14    22296\n",
      "label_16    21933\n",
      "label_9     20497\n",
      "label_1     18979\n",
      "label_11    18510\n",
      "label_4     17812\n",
      "label_0     15582\n",
      "label_15    14925\n",
      "label_10    12811\n",
      "label_19     5765\n",
      "label_3      1776\n",
      "label_2      1490\n",
      "label_6       206\n",
      "label_5        99\n",
      "dtype: int64\n"
     ]
    },
    {
     "data": {
      "image/png": "[encoded data removed]",
      "text/plain": [
       "<Figure size 1200x400 with 1 Axes>"
      ]
     },
     "metadata": {},
     "output_type": "display_data"
    }
   ],
   "source": [
    "# посчитаем количество текстов для каждой метки и посмотрим их распределение\n",
    "label_stats = train[label_cols].sum().sort_values(ascending=False)\n",
    "print(label_stats)\n",
    "label_stats.plot(kind='bar', color='lightcoral', figsize=(12, 4))\n",
    "plt.title(\"Распределение меток\")\n",
    "plt.show()"
   ]
  },
  {
   "cell_type": "code",
   "execution_count": 10,
   "id": "afe4bf63-fa46-42ba-ae93-714f3345a943",
   "metadata": {
    "execution": {
     "iopub.execute_input": "2025-05-18T20:34:42.370284Z",
     "iopub.status.busy": "2025-05-18T20:34:42.369327Z",
     "iopub.status.idle": "2025-05-18T20:34:42.389028Z",
     "shell.execute_reply": "2025-05-18T20:34:42.388371Z",
     "shell.execute_reply.started": "2025-05-18T20:34:42.370248Z"
    },
    "tags": []
   },
   "outputs": [
    {
     "name": "stdout",
     "output_type": "stream",
     "text": [
      "Среднее число меток на текст: 10.567877435064934\n"
     ]
    }
   ],
   "source": [
    "train['num_labels'] = train[label_cols].sum(axis=1)\n",
    "print(\"Среднее число меток на текст:\", train['num_labels'].mean())"
   ]
  },
  {
   "cell_type": "code",
   "execution_count": 11,
   "id": "b2113776-dcfe-4706-b97e-321c91b109e3",
   "metadata": {
    "execution": {
     "iopub.execute_input": "2025-05-18T20:34:43.116123Z",
     "iopub.status.busy": "2025-05-18T20:34:43.114952Z",
     "iopub.status.idle": "2025-05-18T20:34:43.144985Z",
     "shell.execute_reply": "2025-05-18T20:34:43.144308Z",
     "shell.execute_reply.started": "2025-05-18T20:34:43.116081Z"
    },
    "tags": []
   },
   "outputs": [
    {
     "data": {
      "text/html": [
       "<div>\n",
       "<style scoped>\n",
       "    .dataframe tbody tr th:only-of-type {\n",
       "        vertical-align: middle;\n",
       "    }\n",
       "\n",
       "    .dataframe tbody tr th {\n",
       "        vertical-align: top;\n",
       "    }\n",
       "\n",
       "    .dataframe thead th {\n",
       "        text-align: right;\n",
       "    }\n",
       "</style>\n",
       "<table border=\"1\" class=\"dataframe\">\n",
       "  <thead>\n",
       "    <tr style=\"text-align: right;\">\n",
       "      <th></th>\n",
       "      <th>text</th>\n",
       "      <th>num_labels</th>\n",
       "    </tr>\n",
       "  </thead>\n",
       "  <tbody>\n",
       "    <tr>\n",
       "      <th>3122</th>\n",
       "      <td>Симфонический рок от Melodion Orchestra и песо...</td>\n",
       "      <td>16</td>\n",
       "    </tr>\n",
       "    <tr>\n",
       "      <th>29159</th>\n",
       "      <td>Поп-хиты со скидкой 15% в Колизее по промокоду...</td>\n",
       "      <td>16</td>\n",
       "    </tr>\n",
       "    <tr>\n",
       "      <th>17979</th>\n",
       "      <td>Спектакль «Ты слишком много куришь, Лили»\\n🏛\\n...</td>\n",
       "      <td>16</td>\n",
       "    </tr>\n",
       "    <tr>\n",
       "      <th>29410</th>\n",
       "      <td>Сольный концерт Александра Малинина\\n🏛\\nЦДКЖ\\n...</td>\n",
       "      <td>16</td>\n",
       "    </tr>\n",
       "    <tr>\n",
       "      <th>15468</th>\n",
       "      <td>🩷\\nGuma\\n🩷\\nНастя Guma ворвалась в топы всех в...</td>\n",
       "      <td>16</td>\n",
       "    </tr>\n",
       "    <tr>\n",
       "      <th>...</th>\n",
       "      <td>...</td>\n",
       "      <td>...</td>\n",
       "    </tr>\n",
       "    <tr>\n",
       "      <th>5537</th>\n",
       "      <td>Новогодняя Табачка!\\n🔴\\nПодписаться на Новости...</td>\n",
       "      <td>4</td>\n",
       "    </tr>\n",
       "    <tr>\n",
       "      <th>19712</th>\n",
       "      <td>Елочка на площади Победы\\n🔴\\nПодписывайся на\\n...</td>\n",
       "      <td>4</td>\n",
       "    </tr>\n",
       "    <tr>\n",
       "      <th>5529</th>\n",
       "      <td>Грибочки в Столешниковом переулке\\n🍄\\nФото: Иш...</td>\n",
       "      <td>4</td>\n",
       "    </tr>\n",
       "    <tr>\n",
       "      <th>12938</th>\n",
       "      <td>Розарий библиотеки им. В.И.Ленина\\n🌹\\nФото: Св...</td>\n",
       "      <td>4</td>\n",
       "    </tr>\n",
       "    <tr>\n",
       "      <th>12897</th>\n",
       "      <td>Самый красивый хвост в «Малинках»\\n🔴\\nПодписыв...</td>\n",
       "      <td>4</td>\n",
       "    </tr>\n",
       "  </tbody>\n",
       "</table>\n",
       "<p>29568 rows × 2 columns</p>\n",
       "</div>"
      ],
      "text/plain": [
       "                                                    text  num_labels\n",
       "3122   Симфонический рок от Melodion Orchestra и песо...          16\n",
       "29159  Поп-хиты со скидкой 15% в Колизее по промокоду...          16\n",
       "17979  Спектакль «Ты слишком много куришь, Лили»\\n🏛\\n...          16\n",
       "29410  Сольный концерт Александра Малинина\\n🏛\\nЦДКЖ\\n...          16\n",
       "15468  🩷\\nGuma\\n🩷\\nНастя Guma ворвалась в топы всех в...          16\n",
       "...                                                  ...         ...\n",
       "5537   Новогодняя Табачка!\\n🔴\\nПодписаться на Новости...           4\n",
       "19712  Елочка на площади Победы\\n🔴\\nПодписывайся на\\n...           4\n",
       "5529   Грибочки в Столешниковом переулке\\n🍄\\nФото: Иш...           4\n",
       "12938  Розарий библиотеки им. В.И.Ленина\\n🌹\\nФото: Св...           4\n",
       "12897  Самый красивый хвост в «Малинках»\\n🔴\\nПодписыв...           4\n",
       "\n",
       "[29568 rows x 2 columns]"
      ]
     },
     "execution_count": 11,
     "metadata": {},
     "output_type": "execute_result"
    }
   ],
   "source": [
    "# посмотрим тексты с максимальным и минимальным количеством меток\n",
    "train.sort_values('num_labels', ascending=False)[['text', 'num_labels']]"
   ]
  },
  {
   "cell_type": "code",
   "execution_count": 12,
   "id": "4e9b4a4e-df05-4f36-8910-26a6ab1a4d13",
   "metadata": {
    "execution": {
     "iopub.execute_input": "2025-05-18T20:34:43.328698Z",
     "iopub.status.busy": "2025-05-18T20:34:43.327700Z",
     "iopub.status.idle": "2025-05-18T20:34:43.535825Z",
     "shell.execute_reply": "2025-05-18T20:34:43.534924Z",
     "shell.execute_reply.started": "2025-05-18T20:34:43.328658Z"
    },
    "tags": []
   },
   "outputs": [
    {
     "name": "stdout",
     "output_type": "stream",
     "text": [
      "count    29568.000000\n",
      "mean       604.812331\n",
      "std        380.114437\n",
      "min          1.000000\n",
      "25%        306.000000\n",
      "50%        592.000000\n",
      "75%        850.000000\n",
      "max       4081.000000\n",
      "Name: text_length, dtype: float64\n"
     ]
    },
    {
     "data": {
      "image/png": "[encoded data removed]",
      "text/plain": [
       "<Figure size 640x480 with 1 Axes>"
      ]
     },
     "metadata": {},
     "output_type": "display_data"
    }
   ],
   "source": [
    "# посмотрим на длину текстов\n",
    "train['text_length'] = train['text'].apply(len)\n",
    "print(train['text_length'].describe())\n",
    "\n",
    "plt.hist(train['text_length'], color='mistyrose', edgecolor='hotpink', bins=50)\n",
    "plt.title('Распределение количества символов в текстах')\n",
    "plt.xlabel('Количество символов')\n",
    "plt.ylabel('Количество текстов')\n",
    "plt.show()"
   ]
  },
  {
   "cell_type": "code",
   "execution_count": 13,
   "id": "38a28fa3-c25f-4e65-8152-fa3e6686792d",
   "metadata": {
    "execution": {
     "iopub.execute_input": "2025-05-18T20:34:43.537848Z",
     "iopub.status.busy": "2025-05-18T20:34:43.537438Z",
     "iopub.status.idle": "2025-05-18T20:34:43.570376Z",
     "shell.execute_reply": "2025-05-18T20:34:43.569713Z",
     "shell.execute_reply.started": "2025-05-18T20:34:43.537816Z"
    },
    "tags": []
   },
   "outputs": [
    {
     "data": {
      "text/html": [
       "<div>\n",
       "<style scoped>\n",
       "    .dataframe tbody tr th:only-of-type {\n",
       "        vertical-align: middle;\n",
       "    }\n",
       "\n",
       "    .dataframe tbody tr th {\n",
       "        vertical-align: top;\n",
       "    }\n",
       "\n",
       "    .dataframe thead th {\n",
       "        text-align: right;\n",
       "    }\n",
       "</style>\n",
       "<table border=\"1\" class=\"dataframe\">\n",
       "  <thead>\n",
       "    <tr style=\"text-align: right;\">\n",
       "      <th></th>\n",
       "      <th>text</th>\n",
       "      <th>text_length</th>\n",
       "      <th>num_labels</th>\n",
       "    </tr>\n",
       "  </thead>\n",
       "  <tbody>\n",
       "    <tr>\n",
       "      <th>12001</th>\n",
       "      <td>😂</td>\n",
       "      <td>1</td>\n",
       "      <td>5</td>\n",
       "    </tr>\n",
       "    <tr>\n",
       "      <th>284</th>\n",
       "      <td>Было?)</td>\n",
       "      <td>6</td>\n",
       "      <td>5</td>\n",
       "    </tr>\n",
       "    <tr>\n",
       "      <th>26864</th>\n",
       "      <td>Кхм...</td>\n",
       "      <td>6</td>\n",
       "      <td>5</td>\n",
       "    </tr>\n",
       "    <tr>\n",
       "      <th>4395</th>\n",
       "      <td>Срочно</td>\n",
       "      <td>6</td>\n",
       "      <td>5</td>\n",
       "    </tr>\n",
       "    <tr>\n",
       "      <th>6032</th>\n",
       "      <td>А GSPD?</td>\n",
       "      <td>7</td>\n",
       "      <td>8</td>\n",
       "    </tr>\n",
       "    <tr>\n",
       "      <th>...</th>\n",
       "      <td>...</td>\n",
       "      <td>...</td>\n",
       "      <td>...</td>\n",
       "    </tr>\n",
       "    <tr>\n",
       "      <th>18344</th>\n",
       "      <td>ОТКРЫТИЕ ВЫСТАВКИ ТЕРАПЕВТИЧНЫХ ФОТОГРАФИЙ «ЭН...</td>\n",
       "      <td>3963</td>\n",
       "      <td>13</td>\n",
       "    </tr>\n",
       "    <tr>\n",
       "      <th>4481</th>\n",
       "      <td>НОВОЕ ШОУ ЗАСЛУЖЕННОГО АРТИСТА РОССИИ ГИИ ЭРАД...</td>\n",
       "      <td>3999</td>\n",
       "      <td>12</td>\n",
       "    </tr>\n",
       "    <tr>\n",
       "      <th>4664</th>\n",
       "      <td>И вот как-то при мне она унизила другую девочк...</td>\n",
       "      <td>4035</td>\n",
       "      <td>10</td>\n",
       "    </tr>\n",
       "    <tr>\n",
       "      <th>6097</th>\n",
       "      <td>- Ты еще родишь много детей, - говорит он. – Я...</td>\n",
       "      <td>4036</td>\n",
       "      <td>10</td>\n",
       "    </tr>\n",
       "    <tr>\n",
       "      <th>24136</th>\n",
       "      <td>🎉\\n🎊\\nОтмечаем день города в Москве: интересны...</td>\n",
       "      <td>4081</td>\n",
       "      <td>13</td>\n",
       "    </tr>\n",
       "  </tbody>\n",
       "</table>\n",
       "<p>29568 rows × 3 columns</p>\n",
       "</div>"
      ],
      "text/plain": [
       "                                                    text  ...  num_labels\n",
       "12001                                                  😂  ...           5\n",
       "284                                               Было?)  ...           5\n",
       "26864                                             Кхм...  ...           5\n",
       "4395                                              Срочно  ...           5\n",
       "6032                                             А GSPD?  ...           8\n",
       "...                                                  ...  ...         ...\n",
       "18344  ОТКРЫТИЕ ВЫСТАВКИ ТЕРАПЕВТИЧНЫХ ФОТОГРАФИЙ «ЭН...  ...          13\n",
       "4481   НОВОЕ ШОУ ЗАСЛУЖЕННОГО АРТИСТА РОССИИ ГИИ ЭРАД...  ...          12\n",
       "4664   И вот как-то при мне она унизила другую девочк...  ...          10\n",
       "6097   - Ты еще родишь много детей, - говорит он. – Я...  ...          10\n",
       "24136  🎉\\n🎊\\nОтмечаем день города в Москве: интересны...  ...          13\n",
       "\n",
       "[29568 rows x 3 columns]"
      ]
     },
     "execution_count": 13,
     "metadata": {},
     "output_type": "execute_result"
    }
   ],
   "source": [
    "train.sort_values('text_length')[['text', 'text_length', 'num_labels']]"
   ]
  },
  {
   "cell_type": "code",
   "execution_count": 14,
   "id": "560f24b6-f6ca-4821-90ea-1978d1ddf977",
   "metadata": {
    "execution": {
     "iopub.execute_input": "2025-05-18T20:34:44.297176Z",
     "iopub.status.busy": "2025-05-18T20:34:44.296402Z",
     "iopub.status.idle": "2025-05-18T20:34:44.316542Z",
     "shell.execute_reply": "2025-05-18T20:34:44.315854Z",
     "shell.execute_reply.started": "2025-05-18T20:34:44.297137Z"
    },
    "tags": []
   },
   "outputs": [
    {
     "name": "stdout",
     "output_type": "stream",
     "text": [
      "Примеры для метки 18:\n",
      "['Впервые в Уфе танцевальная терапия в группе с практикующим психологом\\nТема встречи: «Отношения. Доверие. Контакт»\\nПриходите, если:\\n🔸\\nвы хотите наладить или поисследовать свои отношения с\\n-\\xa0 телом\\n- собой\\n- близким человеком\\n- работой\\n- деньгами\\n🔸\\nне можете разрешить или забыть какую-то\\xa0 ситуацию, связанную с отношениями\\n🔸\\nне умеете доверять или делегировать\\n🔸\\nтяжело вступаете в контакт\\nЗадать вопрос психологу курса\\nи записаться можно здесь:\\n@LeontevaKsenia\\nДата\\n: 26 января\\nВремя\\n: 19.00-21.00\\nАдрес\\n: Коммунистическая, 45/3, Б/ц \"Деловой двор\"\\nСтоимость: 1500\\nЧто нужно для занятия:\\nудобная одежда, носки, вода, желание танцевать.'\n",
      " '🎹\\nGRAND PIANO COMPETITION\\n🎹\\nДрузья, сегодня открытие IV Международного конкурса GRAND PIANO (для пианистов до 16 лет) в зале Чайковского.\\nСегодня прозвучит премьера концерта АЛЕКСАНДРА ЧАЙКОВСКОГО для 4 (!!!!) роялей!!!\\nВместе с ДЕНИСОМ МАЦУЕВЫМ (которому и посвящён этот концерт)\\nбудут играть лауреаты прошлых лет:\\nПЁТР АКУЛОВ,\\nИВАН БЕССОНОВ и СЕРГЕЙ ДАВЫДЧЕНКО (победитель прошедшего конкурса Чайковского, где председателем комиссии был МАЦУЕВ)\\nАккомпанировать солистам будет ГОСОРКЕСТР России имени Е. Ф. СВЕТЛАНОВА под управлением АЛЕКСАНДРА СЛАДКОВСКОГО.\\nРасписание конкурса можно посмотреть\\nздесь\\n.\\nНаграждение и закрытие конкурса будет 18 июня.\\nКапелька билетов ещё есть по 12 000 в первых рядах на\\nсайте конкурса\\n.\\n#конкурсы']\n",
      "Примеры для метки 5:\n",
      "['ГОСУДАРСТВЕННЫЙ АКАДЕМИЧЕСКИЙ ВОЛЖСКИЙ РУССКИЙ НАРОДНЫЙ ХОР ИМ. П.М. МИЛОСЛАВОВА ВЫСТУПИТ С КОНЦЕРТНОЙ ПРОГРАММОЙ «ВОЛГА – РУССКАЯ ДУША»(6+)\\n22 октября 2024 года, начало в 19:00\\nг. Пятигорск | ГДК №1 им. А.Д. Дементьева | Билеты от 300р.\\n22 октября в 19:00 в г. Пятигорск Государственный академический Волжский русский народный хор им. П.М. Милославова\\n🌊\\nвыступит с концертной программой «Волга – русская душа» в Городском доме культуры № 1 им. А.Д. Дементьева в рамках федеральной программы «Мы – Россия» согласно Всероссийскому гастрольно-концертному плану Министерства культуры Российской Федерации. Программа реализуется ФГБУК РОСКОНЦЕРТ.\\n«Благодаря Всероссийскому гастрольно-концертному плану жители даже самых отдаленных уголков нашей страны могут вживую увидеть постановки федеральных театров, побывать на концерте любимого коллектива», – отметила Министр культуры Российской Федерации Ольга Любимова.\\nВолжский хор - уникальный музыкально-хореографический коллектив, отличающийся удивительно мягкой полуакадемической манерой пения\\n🎤\\nКоллектив продолжает творческие эксперименты, гармонично сочетая традиции и новации. Театрализация, новые исполнительские формы, яркие костюмы, игра света\\n✨\\n– неотъемлемая часть выступлений волжан, наряду с высокой степенью культуры исполнения как вокальных, инструментальных, так и танцевальных произведений.\\nПрограмма «Волга – русская душа» соткана из народных песен, завораживающих танцевальных номеров, авторских произведений в современных оригинальных аранжировках, посвященных Волге и быту волжан, перенося зрителей то на берег величественной реки, то вглубь русской деревни, то в круговорот городской жизни. В программу вошли лучшие номера «золотого» фонда хора: «Чернобровый-черноокий», «Есть на Волге утёс», «Волжские дробушки», «Ах ты, Волга-матушка», а также новые произведения: «Волга – русская душа», «Как по бережку».\\n«Волга – русская душа» – это погружение в самую суть русского характера, где широта души сочетается с глубиной чувств, а безудержное веселье – с пронзительной тоской.\\nЗрителей ждет невероятный калейдоскоп эмоций, выраженный языком музыки, пения и танца.\\nСтоимость билетов: 300 - 700р.\\nБилеты онлайн:\\nhttps://iframeab-pre7148.intickets.ru/event/26440923/\\nМесто проведения: Городской дом культуры №1 им. А.Д. Дементьева, г. Пятигорск, пр. 40 лет Октября, 10\\nИсточники:\\nvolgachoir.ru\\n,\\nhttps://www.culture.ru/events/4829856/koncert-volga-russkaya-dusha\\nРепост приветствуется!\\n#eventskmv #22октября2024г #концерт #пятигорск #кмв #афишапятигорск #афишакмв #кудапойтипятигорск'\n",
      " 'ШОКОЛАДНЫЙ ФЕСТИВАЛЬ ДЕНЬ РОЖДЕНИЕ ЧЕБУРАШКИ\\n26, 27 августа 2023 года\\nг. Кисловодск\\nПриглашаем всех \"мальчишек и девчонок, а также их родителей\" на последний этим летом фестиваль в честь Дня рождения Чебурашки.\\nВ честь праздника площадь напротив Колоннады, где снимали финальную сцену фильма, станет \"Шоколадной\".\\nКондитеры и рестораторы покажут мастерство изготовления сладких десертов.\\nВ течение двух дней, 26 и 27 августа, всех ждёт обширная развлекательная программа.\\nПо решению создателя Чебурашки Эдуарда Успенского в августе у Чебурашки День Рождения, а это значит, что два дня подряд всех гостей и жителей Кисловодска ждём на просмотре фильма \"Чебурашка\" в кинотеатре под открытым небом, начало в 14:00 и 16:00, и на встречу с Сергеем Гармашем, сыгравшим одну из главных ролей.\\nПриготовили и анимационные шоу -программы для детей, мастер-классы, концертную\\nпрограмму.\\nПриходите всей семьёй, будет интересно и взрослым, и детям.\\nПолная программа фестиваля:\\n26 Августа\\n10:00-22:00 станция \"Шоколадная\" - Работа Шоколадных домиков\\n10:00-13:00 станция \"Зелёная\" - Мастер-классы от именитых художников\\n14:00-16:00 станция \"Киношная\" - Показ фильма \"Чебурашка\" под открытым небом на экране 6х4 метра\\n16:00-17:40 станция \"Зелёная\" - Анимация \"Клоуны в гостях у Чебурашки\"\\n17:40-18:00 станция \"Зелёная\" - Анимация \"Фольгированное шоу\"\\n18:00-20:00 станция \"Киношная\" - Показ фильма \"Чебурашка\" под открытым небом на экране 6х4 метра\\n20:00-21:00 станция \"Концертная\" - Кавер-шоу от FOCUS BAND (г.Ставрополь)\\n21:00-22:00 станция \"Концертная\" - Dj set\\n27 Августа\\n10:00-23:00 станция \"Шоколадная\" - Работа Шоколадных домиков\\n10:00-13:00 станция \"Зелёная\" - Мастер-классы от именитых художников\\n13:00-14:00 станция \"Концертная\" - Концерт молодых исполнителей \"ЧебурФест\"\\n14:00-16:00 станция \"Киношная\" - Показ фильма \"Чебурашка\" под открытым небом на экране 6х4 метра\\n16:00-16:40 станция \"Зелёная\" - Анимация \"Шоу мыльных пузырей\"\\n17:00-18:00 станция \"Концертная\" - Анимация \"МимиМишки в гостях у Чебурашки\"\\n18:00-20:00 станция \"Киношная\" - Показ фильма \"Чебурашка\" под открытым небом на экране 6х4 метра\\n20:00 станция \"Концертная\" - Приветственное слово главы города Кисловодска Евгения Моисеева и поздравления от специального гостя праздника Народного артиста РФ Сергея Гармаша\\n20:15 станция \"Концертная\" - музыкальное шоу от финалистов проекта \"Минута славы\" кавер-банды \"Гламурных колхоз\" (г.Краснодар)\\nПолная программа фестиваля:\\nhttps://kislovodsk-kurort.org/home/ispolnitelnaia-vlast/kultura/shokoladnyi-festival-den-rozhdenie-cheburashki\\nИсточники:\\nkislovodsk-kurort.org\\n,\\nhttps://t.me/moiseev_eugene\\nРепост приветствуется!\\n#eventskmv #26августа2023г #27августа2023г #фестиваль #кмв #кисловодск #афишакисловодск #афишакмв #скфо #кудапойтикисловодск']\n"
     ]
    }
   ],
   "source": [
    "print(\"Примеры для метки 18:\")\n",
    "print(train[train['label_18'] == 1]['text'].head(2).values)\n",
    "\n",
    "print(\"Примеры для метки 5:\")\n",
    "print(train[train['label_5'] == 1]['text'].head(2).values)"
   ]
  },
  {
   "cell_type": "code",
   "execution_count": 15,
   "id": "ebc87c20-01c7-467d-8a31-f4a5c53a6cf0",
   "metadata": {
    "execution": {
     "iopub.execute_input": "2025-05-18T20:34:44.782391Z",
     "iopub.status.busy": "2025-05-18T20:34:44.781468Z",
     "iopub.status.idle": "2025-05-18T20:34:45.613761Z",
     "shell.execute_reply": "2025-05-18T20:34:45.613069Z",
     "shell.execute_reply.started": "2025-05-18T20:34:44.782355Z"
    },
    "tags": []
   },
   "outputs": [
    {
     "name": "stdout",
     "output_type": "stream",
     "text": [
      "[('в', 79739), ('и', 79433), ('на', 41725), ('по', 32283), ('с', 23839), ('-', 23131), ('билеты', 17598), ('для', 11990), ('от', 11433), ('не', 11422), ('—', 10300), ('📍', 10030), ('🗓', 9645), ('промокоду', 9463), ('со', 9434), ('до', 8361), ('из', 8304), ('это', 7634), ('а', 7477), ('🎫', 7400), ('ссылке', 7026), ('19:00', 6993), ('о', 6962), ('–', 6911), ('что', 6873), ('как', 6868), ('🏛', 6635), ('спектакль', 6386), ('здесь', 5472), ('💚', 5428), ('скидками', 5423), ('🥰', 5191), ('концерт', 4847), ('вас', 4770), ('за', 4716), ('к', 4704), ('|', 4518), ('все', 4396), ('вы', 4366), ('г.', 4349), ('✅', 4273), ('но', 4233), ('начало', 4048), ('театр', 4042), ('скидка', 4002), ('ул.', 3928), ('будет', 3896), ('🔥', 3844), ('20:00', 3841), ('у', 3671)]\n"
     ]
    }
   ],
   "source": [
    "# выведем самые частые слова\n",
    "words = ' '.join(train['text']).lower().split()\n",
    "word_counts = Counter(words)\n",
    "print(word_counts.most_common(50))"
   ]
  },
  {
   "cell_type": "code",
   "execution_count": 16,
   "id": "c5d664b6-5dcf-4840-bb4a-866c4976d3c3",
   "metadata": {
    "execution": {
     "iopub.execute_input": "2025-05-18T20:34:45.615557Z",
     "iopub.status.busy": "2025-05-18T20:34:45.614943Z",
     "iopub.status.idle": "2025-05-18T20:34:45.635254Z",
     "shell.execute_reply": "2025-05-18T20:34:45.634567Z",
     "shell.execute_reply.started": "2025-05-18T20:34:45.615533Z"
    },
    "tags": []
   },
   "outputs": [
    {
     "name": "stdout",
     "output_type": "stream",
     "text": [
      "Тексты без меток: 0\n"
     ]
    }
   ],
   "source": [
    "print(\"Тексты без меток:\", (train['num_labels'] == 0).sum())"
   ]
  },
  {
   "cell_type": "code",
   "execution_count": 17,
   "id": "18ba3038-7bc9-4f10-bd89-c4cf00e4a9e9",
   "metadata": {
    "execution": {
     "iopub.execute_input": "2025-05-18T20:34:45.899827Z",
     "iopub.status.busy": "2025-05-18T20:34:45.898763Z",
     "iopub.status.idle": "2025-05-18T20:34:46.275182Z",
     "shell.execute_reply": "2025-05-18T20:34:46.274521Z",
     "shell.execute_reply.started": "2025-05-18T20:34:45.899793Z"
    },
    "tags": []
   },
   "outputs": [
    {
     "name": "stdout",
     "output_type": "stream",
     "text": [
      "Топ-5 комбинаций меток: [('1 1 0 0 1 0 0 1 1 1 1 1 1 0 1 0 0 1 1 0', 1053), ('1 1 0 0 1 0 0 1 1 1 1 1 1 1 1 0 0 1 1 0', 742), ('0 1 0 0 1 0 0 1 1 1 1 1 1 0 1 0 0 1 1 0', 727), ('1 1 0 0 1 0 0 1 1 1 1 1 1 1 1 0 1 1 1 0', 510), ('0 1 0 0 1 0 0 1 1 1 1 1 1 1 1 0 1 1 1 0', 477)]\n"
     ]
    }
   ],
   "source": [
    "label_combinations = Counter(' '.join(map(str, x)) for x in train['labels'])\n",
    "print(\"Топ-5 комбинаций меток:\", label_combinations.most_common(5))"
   ]
  },
  {
   "cell_type": "code",
   "execution_count": 18,
   "id": "e07fc543-58e3-48fa-a9c2-5b251e2ced9a",
   "metadata": {
    "execution": {
     "iopub.execute_input": "2025-05-18T20:34:46.398909Z",
     "iopub.status.busy": "2025-05-18T20:34:46.397832Z",
     "iopub.status.idle": "2025-05-18T20:34:46.823189Z",
     "shell.execute_reply": "2025-05-18T20:34:46.822449Z",
     "shell.execute_reply.started": "2025-05-18T20:34:46.398866Z"
    },
    "tags": []
   },
   "outputs": [
    {
     "data": {
      "text/plain": [
       "<Axes: >"
      ]
     },
     "execution_count": 18,
     "metadata": {},
     "output_type": "execute_result"
    },
    {
     "data": {
      "image/png": "[encoded data removed]",
      "text/plain": [
       "<Figure size 640x480 with 2 Axes>"
      ]
     },
     "metadata": {},
     "output_type": "display_data"
    }
   ],
   "source": [
    "sns.heatmap(train[label_cols].corr(), cmap='PiYG')"
   ]
  },
  {
   "cell_type": "markdown",
   "id": "089c0893-ccd1-4eb6-87e6-274ba07bc04e",
   "metadata": {},
   "source": [
    "## Итак, выводы по анализу данных\n",
    " Тексты похожи на анонсы мероприятий и спамные рекламные сообщения, размеченные метками, обозначающими вероятно какую-то информацию о самом мероприятии и содержании текста. Каждый текст содержит от 4 до 16 меток, а в среднем на каждый текст приходится 10-11 меток, так что вероятно метки достаточно информативны в совокупности. Распределены они тем не менее очень и очень плохо, огромный дисбаланс наблюдается (от 99 до 24300 ну что это такое😭). Также есть метки с высокой корреляцией, но мы не можем ничего удалять и объединять, к сожалению. Это приведет к потере данных.\n",
    "\n",
    "Тексты разные: от коротких \"😂\" до огромных описаний на 4к символов, но большинство где-то 500-600 знаков. Из интересного - много смайликов используется, их надо попробовать как-то перекодировать тоже.\n",
    "\n",
    "Основные проблемы датасета: дисбаланс, разнородность текстов по длине и содержанию, наличие спец символов и шумы типа `\\n` и ссылок. По поводу последнего пункта, это мы решим токенизацией, удалим все общие символы, не несущие специальной информации (типа предлоги, запятые, переносы строк), главное не переборщить и не сломать структуру меток. Остальное как обычно решим взвешенным лоссом и подбором параметров."
   ]
  },
  {
   "cell_type": "markdown",
   "id": "01dfe9fe-b435-4a38-abac-dff3b53d1727",
   "metadata": {},
   "source": [
    "# Пайплайны и модели очистки текста для 5 видов токенизации"
   ]
  },
  {
   "cell_type": "code",
   "execution_count": 40,
   "id": "84c3aef4-f584-45f7-a8a4-54302bd91be6",
   "metadata": {
    "execution": {
     "iopub.execute_input": "2025-05-18T21:00:41.859161Z",
     "iopub.status.busy": "2025-05-18T21:00:41.858235Z",
     "iopub.status.idle": "2025-05-18T21:00:42.092353Z",
     "shell.execute_reply": "2025-05-18T21:00:42.091677Z",
     "shell.execute_reply.started": "2025-05-18T21:00:41.859123Z"
    },
    "tags": []
   },
   "outputs": [],
   "source": [
    "device = torch.device('cuda' if torch.cuda.is_available() else 'cpu')\n",
    "labels = torch.from_numpy(np.array(train['labels'].tolist())).float()\n",
    "texts = train['text'].tolist()"
   ]
  },
  {
   "cell_type": "code",
   "execution_count": 20,
   "id": "fe329b43-0958-429c-8e2a-9201c216a537",
   "metadata": {
    "execution": {
     "iopub.execute_input": "2025-05-18T20:34:57.703351Z",
     "iopub.status.busy": "2025-05-18T20:34:57.702266Z",
     "iopub.status.idle": "2025-05-18T20:34:57.721895Z",
     "shell.execute_reply": "2025-05-18T20:34:57.721278Z",
     "shell.execute_reply.started": "2025-05-18T20:34:57.703309Z"
    },
    "tags": []
   },
   "outputs": [],
   "source": [
    "train_texts, val_texts, train_labels, val_labels = train_test_split(\n",
    "    texts,\n",
    "    labels,\n",
    "    test_size=0.2,\n",
    "    random_state=42,\n",
    "    shuffle=True\n",
    ")"
   ]
  },
  {
   "cell_type": "code",
   "execution_count": 21,
   "id": "54fde1da-d9f6-46bb-a8a2-b4f26d0c3be5",
   "metadata": {
    "execution": {
     "iopub.execute_input": "2025-05-18T20:34:59.090531Z",
     "iopub.status.busy": "2025-05-18T20:34:59.089596Z",
     "iopub.status.idle": "2025-05-18T20:34:59.103395Z",
     "shell.execute_reply": "2025-05-18T20:34:59.102614Z",
     "shell.execute_reply.started": "2025-05-18T20:34:59.090501Z"
    },
    "tags": []
   },
   "outputs": [],
   "source": [
    "def predict_for_csv(model, test_loader, device, threshold=0.3):\n",
    "    model.eval()\n",
    "    all_preds = []\n",
    "    all_ids = []\n",
    "\n",
    "    with torch.no_grad():\n",
    "        for batch in tqdm(test_loader, desc=\"Predicting\", leave=False):\n",
    "            inputs = {\n",
    "                'input_ids': batch['input_ids'].to(device),\n",
    "                'attention_mask': batch['attention_mask'].to(device)\n",
    "            }\n",
    "            ids = batch['id']  # должен быть в датасете\n",
    "\n",
    "            logits = model(**inputs).logits\n",
    "            probs = torch.sigmoid(logits).cpu().numpy()\n",
    "            preds = (probs > threshold).astype(int)\n",
    "\n",
    "            all_preds.extend(preds)\n",
    "            all_ids.extend(ids)\n",
    "\n",
    "    return all_ids, all_preds"
   ]
  },
  {
   "cell_type": "code",
   "execution_count": 22,
   "id": "5004defa-2db4-4396-9cf2-11ae7cfb0254",
   "metadata": {
    "execution": {
     "iopub.execute_input": "2025-05-18T20:35:01.055673Z",
     "iopub.status.busy": "2025-05-18T20:35:01.054694Z",
     "iopub.status.idle": "2025-05-18T20:35:01.099009Z",
     "shell.execute_reply": "2025-05-18T20:35:01.098308Z",
     "shell.execute_reply.started": "2025-05-18T20:35:01.055632Z"
    },
    "tags": []
   },
   "outputs": [],
   "source": [
    "import pandas as pd\n",
    "\n",
    "def save_predictions_to_csv(ids, preds, output_path):\n",
    "    df = pd.DataFrame({\n",
    "        'id': [int(i) if isinstance(i, torch.Tensor) else i for i in ids],\n",
    "        'labels': [' '.join(map(str, row)) for row in preds]\n",
    "    })\n",
    "    df.to_csv(output_path, index=False)"
   ]
  },
  {
   "cell_type": "markdown",
   "id": "bd23ae09-a658-41ef-9a1e-5daf71541cdf",
   "metadata": {
    "tags": []
   },
   "source": [
    "## 1. TF-IDF\n",
    "TF-IDF определяет \"важность\" слов по количеству использования их в текстах, группируя схожие тексты. Для очистки текста надо заменить переносы строк на пробелы; ссылки, номера телефонов, хештеги на теги; заменить эмоджи на слова; привести все к нижнему регистру, также я бы удалила стоп-слова. Может стать проблемой разница в длине текстов, из-за чего я добавила бы нормализацию матрицы TF-IDF по длине текста. Для хотя бы минимального учета семантических отношений между словами можно также добавить N-граммы."
   ]
  },
  {
   "cell_type": "markdown",
   "id": "f92e5740-22c0-41d1-8971-1a575957384d",
   "metadata": {
    "tags": []
   },
   "source": [
    "#### Вариант c очисткой от стоп-слов"
   ]
  },
  {
   "cell_type": "code",
   "execution_count": 45,
   "id": "fa5035e9-cb68-427a-8aea-185fa246bb84",
   "metadata": {
    "execution": {
     "iopub.execute_input": "2025-05-18T21:28:39.929062Z",
     "iopub.status.busy": "2025-05-18T21:28:39.928033Z",
     "iopub.status.idle": "2025-05-18T21:28:40.140802Z",
     "shell.execute_reply": "2025-05-18T21:28:40.140052Z",
     "shell.execute_reply.started": "2025-05-18T21:28:39.929021Z"
    },
    "tags": []
   },
   "outputs": [
    {
     "name": "stderr",
     "output_type": "stream",
     "text": [
      "[nltk_data] Downloading package stopwords to\n",
      "[nltk_data]     /home/jupyter/nltk_data...\n",
      "[nltk_data]   Package stopwords is already up-to-date!\n"
     ]
    },
    {
     "data": {
      "text/plain": [
       "True"
      ]
     },
     "execution_count": 45,
     "metadata": {},
     "output_type": "execute_result"
    }
   ],
   "source": [
    "nltk.download('stopwords')"
   ]
  },
  {
   "cell_type": "code",
   "execution_count": 48,
   "id": "f0e45bd4-dbff-4df6-8ecd-3fcdf64e4365",
   "metadata": {
    "execution": {
     "iopub.execute_input": "2025-05-18T21:29:28.765948Z",
     "iopub.status.busy": "2025-05-18T21:29:28.764939Z",
     "iopub.status.idle": "2025-05-18T21:29:28.784680Z",
     "shell.execute_reply": "2025-05-18T21:29:28.784056Z",
     "shell.execute_reply.started": "2025-05-18T21:29:28.765909Z"
    },
    "tags": []
   },
   "outputs": [],
   "source": [
    "russian_stopwords = stopwords.words('russian')\n",
    "# функция очистки tf-idf\n",
    "def clean_text_tfidf(text):\n",
    "    text = text.replace('\\n', ' ')\n",
    "    text = emoji.demojize(text, delimiters=(\" \", \" \")) \n",
    "    text = re.sub(r'http\\S+|www\\.\\S+', '[URL]', text)\n",
    "    text = re.sub(r'@\\S+', '[USER]', text)\n",
    "    text = re.sub(r'#\\S+', '[HASHTAG]', text)\n",
    "    text = re.sub(r'\\b\\d{1,2}[:.]\\d{2}\\b', '[TIME]', text)\n",
    "    text = re.sub(r'\\b\\d+[ррbр]\\b', '[PRICE]', text)\n",
    "    text = re.sub(r'\\+7\\s?\\(?\\d{3}\\)?[\\s-]?\\d{3}[\\s-]?\\d{2}[\\s-]?\\d{2}', '[PHONE]', text)\n",
    "    text = re.sub(r'[^a-zA-Zа-яА-ЯёЁ0-9\\s.,!?;:\\-\\[\\]]', ' ', text)\n",
    "    text = text.lower()\n",
    "    return ' '.join(text.split())\n",
    "\n",
    "# класс для избирательной фильтрации\n",
    "class ContextAwareTfidf(TfidfVectorizer):\n",
    "    def build_analyzer(self):\n",
    "        analyzer = super().build_analyzer()\n",
    "        return lambda doc: [\n",
    "            gram for gram in analyzer(doc)\n",
    "            if (len(gram) > 2 and gram not in russian_stopwords)\n",
    "            or gram.startswith(('[URL]', '[USER]', '[HASHTAG]', '[TIME]', '[PRICE]'))\n",
    "        ]\n",
    "\n",
    "# пайплайн с tf-idf\n",
    "class TqdmPipeline(Pipeline):\n",
    "    def fit(self, X, y):\n",
    "        Xt = X\n",
    "        with tqdm(total=len(self.steps), desc='Обучение модели') as pbar:\n",
    "            for name, step in self.steps[:-1]:\n",
    "                if hasattr(step, 'fit_transform'):\n",
    "                    Xt = step.fit_transform(Xt, y)\n",
    "                elif hasattr(step, 'fit'):\n",
    "                    step.fit(Xt, y)\n",
    "                    Xt = step.transform(Xt)\n",
    "                pbar.update(1)\n",
    "            self.steps[-1][1].fit(Xt, y)\n",
    "            pbar.update(1)\n",
    "        return self"
   ]
  },
  {
   "cell_type": "code",
   "execution_count": 49,
   "id": "0b273cf2-08d9-41cc-a234-110aa4a07eb2",
   "metadata": {
    "execution": {
     "iopub.execute_input": "2025-05-18T21:29:29.169322Z",
     "iopub.status.busy": "2025-05-18T21:29:29.168394Z",
     "iopub.status.idle": "2025-05-18T21:30:48.704627Z",
     "shell.execute_reply": "2025-05-18T21:30:48.703898Z",
     "shell.execute_reply.started": "2025-05-18T21:29:29.169285Z"
    },
    "tags": []
   },
   "outputs": [
    {
     "name": "stdout",
     "output_type": "stream",
     "text": [
      "Запуск обучения...\n"
     ]
    },
    {
     "name": "stderr",
     "output_type": "stream",
     "text": [
      "Обучение модели: 100%|██████████| 3/3 [01:02<00:00, 21.00s/it]\n"
     ]
    },
    {
     "name": "stdout",
     "output_type": "stream",
     "text": [
      "\n",
      "Оценка модели...\n"
     ]
    },
    {
     "name": "stderr",
     "output_type": "stream",
     "text": [
      "Предсказание: 100%|██████████| 10/10 [00:16<00:00,  1.64s/it]"
     ]
    },
    {
     "name": "stdout",
     "output_type": "stream",
     "text": [
      "\n",
      "Отчет по классификации:\n",
      "              precision    recall  f1-score   support\n",
      "\n",
      "           0       0.71      0.84      0.77      3127\n",
      "           1       0.93      0.71      0.81      3801\n",
      "           2       0.25      0.72      0.37       299\n",
      "           3       0.32      0.87      0.47       366\n",
      "           4       0.90      0.71      0.80      3556\n",
      "           5       0.75      0.15      0.25        20\n",
      "           6       1.00      0.30      0.46        40\n",
      "           7       0.97      0.68      0.80      4503\n",
      "           8       0.99      0.78      0.87      4678\n",
      "           9       0.95      0.79      0.86      4118\n",
      "          10       0.83      0.80      0.81      2570\n",
      "          11       0.93      0.78      0.85      3708\n",
      "          12       0.96      0.82      0.88      4627\n",
      "          13       0.93      0.92      0.92      4634\n",
      "          14       0.95      0.76      0.85      4480\n",
      "          15       0.81      0.90      0.85      3007\n",
      "          16       0.92      0.87      0.89      4344\n",
      "          17       0.98      0.79      0.88      4709\n",
      "          18       0.99      0.80      0.89      4857\n",
      "          19       0.53      0.98      0.69      1156\n",
      "\n",
      "   micro avg       0.88      0.80      0.84     62600\n",
      "   macro avg       0.83      0.75      0.75     62600\n",
      "weighted avg       0.91      0.80      0.85     62600\n",
      " samples avg       0.87      0.79      0.82     62600\n",
      "\n"
     ]
    },
    {
     "name": "stderr",
     "output_type": "stream",
     "text": [
      "\n"
     ]
    }
   ],
   "source": [
    "tfidf_model = TqdmPipeline([\n",
    "    ('tfidf', ContextAwareTfidf(\n",
    "        preprocessor=clean_text_tfidf,\n",
    "        ngram_range=(1, 3),\n",
    "        max_features=20000,\n",
    "        sublinear_tf=True,\n",
    "        min_df=5, \n",
    "        max_df=0.95\n",
    "    )),\n",
    "    ('normalizer', Normalizer(norm='l2')),\n",
    "    ('clf', MultiOutputClassifier(\n",
    "        RandomForestClassifier(\n",
    "            n_estimators=200,\n",
    "            class_weight='balanced',\n",
    "            max_depth=15,\n",
    "            n_jobs=-1\n",
    "        ), \n",
    "        n_jobs=-1\n",
    "    ))\n",
    "])\n",
    "\n",
    "print(\"Запуск обучения...\")\n",
    "tfidf_model.fit(train_texts, train_labels)\n",
    "\n",
    "def evaluate_with_progress(model, texts, val_labels):\n",
    "    print(\"\\nОценка модели...\")\n",
    "    labels_pred = []\n",
    "    batches = np.array_split(texts, 10) \n",
    "    \n",
    "    for batch in tqdm(batches, desc='Предсказание'):\n",
    "        labels_pred.extend(model.predict(batch))\n",
    "    \n",
    "    print(\"\\nОтчет по классификации:\")\n",
    "    print(classification_report(val_labels, labels_pred))\n",
    "    \n",
    "def predict_with_progress(model, texts):\n",
    "    print(\"\\nОценка модели...\")\n",
    "    labels_pred = []\n",
    "    batches = np.array_split(texts, 10) \n",
    "    \n",
    "    for batch in tqdm(batches, desc='Предсказание'):\n",
    "        labels_pred.extend(model.predict(batch))\n",
    "    return labels_pred\n",
    "\n",
    "evaluate_with_progress(tfidf_model, val_texts, val_labels)"
   ]
  },
  {
   "cell_type": "code",
   "execution_count": 50,
   "id": "1b7f8a37-7dcd-4ea4-91cb-11bc8d182ad1",
   "metadata": {
    "execution": {
     "iopub.execute_input": "2025-05-18T21:30:48.706652Z",
     "iopub.status.busy": "2025-05-18T21:30:48.706113Z",
     "iopub.status.idle": "2025-05-18T21:31:07.011624Z",
     "shell.execute_reply": "2025-05-18T21:31:07.010831Z",
     "shell.execute_reply.started": "2025-05-18T21:30:48.706618Z"
    },
    "tags": []
   },
   "outputs": [
    {
     "name": "stdout",
     "output_type": "stream",
     "text": [
      "\n",
      "Оценка модели...\n"
     ]
    },
    {
     "name": "stderr",
     "output_type": "stream",
     "text": [
      "Предсказание: 100%|██████████| 10/10 [00:18<00:00,  1.82s/it]\n"
     ]
    }
   ],
   "source": [
    "y_pred_tfidf = predict_with_progress(tfidf_model, test[\"text\"].tolist())\n",
    "y_pred_tfidf = np.array(y_pred_tfidf).astype(int)"
   ]
  },
  {
   "cell_type": "code",
   "execution_count": 51,
   "id": "5c05b3d9-adbc-48b3-af7c-c29a92a41b7a",
   "metadata": {
    "execution": {
     "iopub.execute_input": "2025-05-18T21:31:07.013567Z",
     "iopub.status.busy": "2025-05-18T21:31:07.012618Z",
     "iopub.status.idle": "2025-05-18T21:31:07.139982Z",
     "shell.execute_reply": "2025-05-18T21:31:07.139296Z",
     "shell.execute_reply.started": "2025-05-18T21:31:07.013527Z"
    },
    "tags": []
   },
   "outputs": [],
   "source": [
    "save_predictions_to_csv(test[\"id\"], y_pred_tfidf, 'tfidf_submission.csv')"
   ]
  },
  {
   "cell_type": "markdown",
   "id": "c0b10f20-1a43-498e-89da-120568a33f0c",
   "metadata": {
    "tags": []
   },
   "source": [
    "train['text'][22]"
   ]
  },
  {
   "cell_type": "markdown",
   "id": "4e7c7475-ff3e-4895-b690-81dc4dd2be97",
   "metadata": {
    "tags": []
   },
   "source": [
    "clean_text_tfidf(train['text'][22])"
   ]
  },
  {
   "cell_type": "markdown",
   "id": "abb9f522-8560-4a64-bba9-04abdf975ed3",
   "metadata": {
    "tags": []
   },
   "source": [
    "train['text'] = train['text'].apply(lambda x: clean_text_tfidf(x))"
   ]
  },
  {
   "cell_type": "markdown",
   "id": "60a19b0a-7dda-4a8b-914f-add1dd9757b8",
   "metadata": {
    "tags": []
   },
   "source": [
    "train['text_length2'] = train['text'].apply(len) # посмотрим на длину текстов теперь\n",
    "print(train['text_length2'].describe())\n",
    "\n",
    "plt.hist(train['text_length2'], color='mistyrose', edgecolor='hotpink', bins=50)\n",
    "plt.title('Новое распределение количества символов в текстах')\n",
    "plt.xlabel('Количество символов')\n",
    "plt.ylabel('Количество текстов')\n",
    "plt.show()"
   ]
  },
  {
   "cell_type": "markdown",
   "id": "ae75d5f5-8c1e-4f72-ac7a-a0077be41640",
   "metadata": {
    "tags": []
   },
   "source": [
    "## 2. Word2Vec (эта модель выбила в кагле скор на прайвате)\n",
    "Word2Vec способен выявлять контекст, синонимы и ассоциации, что хорошо подходит для нашей задачи. Для очистки текста сделаем такую же базовую предобработку (переносы строк, замена эмоджи, ссылок, телефонов, хештегов, нижний регистр). Также для уменьшения шума сделаем частичное удаление стоп-слов, не несущих контекстной информации, через лемматизацию с фильтрацией"
   ]
  },
  {
   "cell_type": "code",
   "execution_count": 35,
   "id": "636f362c-9ba3-4291-be64-bdd84a1d0fc7",
   "metadata": {
    "execution": {
     "iopub.execute_input": "2025-05-18T17:40:26.300733Z",
     "iopub.status.busy": "2025-05-18T17:40:26.299651Z",
     "iopub.status.idle": "2025-05-18T17:40:27.596619Z",
     "shell.execute_reply": "2025-05-18T17:40:27.595753Z",
     "shell.execute_reply.started": "2025-05-18T17:40:26.300690Z"
    },
    "tags": []
   },
   "outputs": [
    {
     "name": "stderr",
     "output_type": "stream",
     "text": [
      "[nltk_data] Downloading package punkt to /home/jupyter/nltk_data...\n",
      "[nltk_data]   Package punkt is already up-to-date!\n",
      "[nltk_data] Downloading package punkt_tab to\n",
      "[nltk_data]     /home/jupyter/nltk_data...\n",
      "[nltk_data]   Package punkt_tab is already up-to-date!\n"
     ]
    }
   ],
   "source": [
    "nltk.download('punkt')\n",
    "nltk.download('punkt_tab')\n",
    "morph = MorphAnalyzer()"
   ]
  },
  {
   "cell_type": "code",
   "execution_count": 40,
   "id": "11d3a624-e984-4526-b3e1-81c486be1277",
   "metadata": {
    "execution": {
     "iopub.execute_input": "2025-05-18T18:02:59.035749Z",
     "iopub.status.busy": "2025-05-18T18:02:59.034606Z",
     "iopub.status.idle": "2025-05-18T18:02:59.053547Z",
     "shell.execute_reply": "2025-05-18T18:02:59.052916Z",
     "shell.execute_reply.started": "2025-05-18T18:02:59.035710Z"
    },
    "tags": []
   },
   "outputs": [],
   "source": [
    "# частичное удаление стоп-слов\n",
    "MINIMAL_STOPWORDS = {'и', 'в', 'с', 'у', 'к', 'на', 'за', 'по', 'из', 'от', 'о', 'но', 'а', 'же'}\n",
    "\n",
    "# слова, которые нельзя удалять (для сохранения контекста)\n",
    "KEEP_WORDS = {'не', 'ни', 'без', 'нет', 'для', 'до', 'после'}\n",
    "\n",
    "# функция очистки Word2Vec\n",
    "def clean_text_w2v(text):\n",
    "    text = emoji.demojize(text, delimiters=(\" \", \" \"))\n",
    "    text = re.sub(r'http\\S+|www\\.\\S+', '[URL]', text)\n",
    "    text = re.sub(r'@\\S+', '[USERNAME]', text)\n",
    "    text = re.sub(r'#\\S+', '[HASHTAG]', text)\n",
    "    text = re.sub(r'\\+7\\s?\\(?\\d{3}\\)?[\\s-]?\\d{3}[\\s-]?\\d{2}[\\s-]?\\d{2}', '[PHONE_NUMBER]', text)\n",
    "    text = re.sub(r'[^a-zA-Zа-яА-ЯёЁ0-9\\s\\-.,!?;:]', ' ', text)\n",
    "    text = text.lower()\n",
    "    return ' '.join(text.split())\n",
    "\n",
    "# лемматизация с частичной фильтрацией\n",
    "def lemmatize_with_filter(text):\n",
    "    tokens = word_tokenize(text)\n",
    "    lemmas = []\n",
    "    for token in tokens:\n",
    "        if len(token) <= 2 and token not in KEEP_WORDS:\n",
    "            continue\n",
    "            \n",
    "        lemma = morph.parse(token)[0].normal_form\n",
    "        if lemma not in MINIMAL_STOPWORDS or lemma in KEEP_WORDS:\n",
    "            lemmas.append(lemma)\n",
    "            \n",
    "    return lemmas\n",
    "\n",
    "# трансформер\n",
    "class Word2VecTransformer(BaseEstimator, TransformerMixin):\n",
    "    def __init__(self, vector_size=300, window=5, min_count=3):\n",
    "        self.vector_size = vector_size\n",
    "        self.window = window\n",
    "        self.min_count = min_count\n",
    "        self.model = None\n",
    "        \n",
    "    def fit(self, X, y=None):\n",
    "        sentences = [lemmatize_with_filter(clean_text_w2v(text)) for text in X]\n",
    "        self.model = Word2Vec(\n",
    "            sentences=sentences,\n",
    "            vector_size=self.vector_size,\n",
    "            window=self.window,\n",
    "            min_count=self.min_count,\n",
    "            sg=1,\n",
    "            hs=0,\n",
    "            negative=5,\n",
    "            workers=4\n",
    "        )\n",
    "        return self\n",
    "        \n",
    "    def transform(self, X):\n",
    "        def text_to_vector(text):\n",
    "            words = lemmatize_with_filter(clean_text_w2v(text))\n",
    "            vectors = [self.model.wv[word] for word in words if word in self.model.wv]\n",
    "            return np.mean(vectors, axis=0) if vectors else np.zeros(self.vector_size)\n",
    "            \n",
    "        return np.array([text_to_vector(text) for text in X])\n",
    "\n",
    "# пайплайн Word2Vec\n",
    "w2v_model = TqdmPipeline([\n",
    "    ('w2v', Word2VecTransformer(vector_size=300)),\n",
    "    ('normalizer', Normalizer(norm='l2')),\n",
    "    ('clf', MultiOutputClassifier(RandomForestClassifier(n_estimators=100, n_jobs=-1, random_state=42)))\n",
    "])"
   ]
  },
  {
   "cell_type": "code",
   "execution_count": 41,
   "id": "132ba24a-92d2-4e4f-a9a4-1b6ddb509cce",
   "metadata": {
    "execution": {
     "iopub.execute_input": "2025-05-18T18:02:59.480249Z",
     "iopub.status.busy": "2025-05-18T18:02:59.479025Z",
     "iopub.status.idle": "2025-05-18T18:16:47.257049Z",
     "shell.execute_reply": "2025-05-18T18:16:47.256370Z",
     "shell.execute_reply.started": "2025-05-18T18:02:59.480204Z"
    },
    "tags": []
   },
   "outputs": [
    {
     "name": "stdout",
     "output_type": "stream",
     "text": [
      "Запуск обучения...\n"
     ]
    },
    {
     "name": "stderr",
     "output_type": "stream",
     "text": [
      "Обучение модели: 100%|██████████| 3/3 [12:42<00:00, 254.22s/it]\n"
     ]
    },
    {
     "name": "stdout",
     "output_type": "stream",
     "text": [
      "\n",
      "Оценка модели...\n"
     ]
    },
    {
     "name": "stderr",
     "output_type": "stream",
     "text": [
      "Предсказание: 100%|██████████| 10/10 [01:04<00:00,  6.50s/it]"
     ]
    },
    {
     "name": "stdout",
     "output_type": "stream",
     "text": [
      "\n",
      "Отчет по классификации:\n",
      "              precision    recall  f1-score   support\n",
      "\n",
      "           0       0.76      0.79      0.77      3127\n",
      "           1       0.87      0.94      0.90      3801\n",
      "           2       0.94      0.26      0.40       299\n",
      "           3       0.91      0.64      0.75       366\n",
      "           4       0.86      0.93      0.90      3556\n",
      "           5       1.00      0.10      0.18        20\n",
      "           6       1.00      0.28      0.43        40\n",
      "           7       0.89      0.95      0.92      4503\n",
      "           8       0.93      0.97      0.95      4678\n",
      "           9       0.92      0.97      0.94      4118\n",
      "          10       0.90      0.88      0.89      2570\n",
      "          11       0.90      0.94      0.92      3708\n",
      "          12       0.90      0.98      0.94      4627\n",
      "          13       0.90      0.98      0.94      4634\n",
      "          14       0.90      0.97      0.93      4480\n",
      "          15       0.89      0.87      0.88      3007\n",
      "          16       0.92      0.97      0.94      4344\n",
      "          17       0.96      0.98      0.97      4709\n",
      "          18       0.96      0.99      0.98      4857\n",
      "          19       0.94      0.81      0.87      1156\n",
      "\n",
      "   micro avg       0.90      0.94      0.92     62600\n",
      "   macro avg       0.91      0.81      0.82     62600\n",
      "weighted avg       0.90      0.94      0.92     62600\n",
      " samples avg       0.91      0.94      0.92     62600\n",
      "\n"
     ]
    },
    {
     "name": "stderr",
     "output_type": "stream",
     "text": [
      "\n"
     ]
    }
   ],
   "source": [
    "print(\"Запуск обучения...\")\n",
    "w2v_model.fit(train_texts, train_labels)\n",
    "\n",
    "# 6. Оценка с tqdm\n",
    "def evaluate_with_progress(model, texts, val_labels):\n",
    "    print(\"\\nОценка модели...\")\n",
    "    labels_pred = []\n",
    "    batches = np.array_split(texts, 10)  # Разбиваем на 10 батчей\n",
    "    \n",
    "    for batch in tqdm(batches, desc='Предсказание'):\n",
    "        labels_pred.extend(model.predict(batch))\n",
    "    \n",
    "    print(\"\\nОтчет по классификации:\")\n",
    "    print(classification_report(val_labels, labels_pred))\n",
    "    \n",
    "def predict_with_progress(model, texts):\n",
    "    print(\"\\nОценка модели...\")\n",
    "    labels_pred = []\n",
    "    batches = np.array_split(texts, 10)  # Разбиваем на 10 батчей\n",
    "    \n",
    "    for batch in tqdm(batches, desc='Предсказание'):\n",
    "        labels_pred.extend(model.predict(batch))\n",
    "    return labels_pred\n",
    "\n",
    "evaluate_with_progress(w2v_model, val_texts, val_labels)"
   ]
  },
  {
   "cell_type": "code",
   "execution_count": 42,
   "id": "5bf1bad4-b69b-42a2-8b9a-23b7fdc8a908",
   "metadata": {
    "execution": {
     "iopub.execute_input": "2025-05-18T18:22:39.609237Z",
     "iopub.status.busy": "2025-05-18T18:22:39.608384Z",
     "iopub.status.idle": "2025-05-18T18:23:57.564361Z",
     "shell.execute_reply": "2025-05-18T18:23:57.563727Z",
     "shell.execute_reply.started": "2025-05-18T18:22:39.609200Z"
    }
   },
   "outputs": [
    {
     "name": "stdout",
     "output_type": "stream",
     "text": [
      "\n",
      "Оценка модели...\n"
     ]
    },
    {
     "name": "stderr",
     "output_type": "stream",
     "text": [
      "Предсказание: 100%|██████████| 10/10 [01:17<00:00,  7.79s/it]\n"
     ]
    }
   ],
   "source": [
    "y_pred_w2v = predict_with_progress(w2v_model, test[\"text\"].tolist())"
   ]
  },
  {
   "cell_type": "code",
   "execution_count": 51,
   "id": "e96ff865-ae5e-427f-b676-f8c109080f1b",
   "metadata": {
    "execution": {
     "iopub.execute_input": "2025-05-18T18:34:54.768322Z",
     "iopub.status.busy": "2025-05-18T18:34:54.767292Z",
     "iopub.status.idle": "2025-05-18T18:34:54.788498Z",
     "shell.execute_reply": "2025-05-18T18:34:54.787853Z",
     "shell.execute_reply.started": "2025-05-18T18:34:54.768289Z"
    },
    "tags": []
   },
   "outputs": [],
   "source": [
    "y_pred_w2v = np.array(y_pred_w2v).astype(int)"
   ]
  },
  {
   "cell_type": "code",
   "execution_count": 52,
   "id": "c4a5da3d-0c16-49c1-b0e4-32b28b9f987e",
   "metadata": {
    "execution": {
     "iopub.execute_input": "2025-05-18T18:34:56.498505Z",
     "iopub.status.busy": "2025-05-18T18:34:56.497481Z",
     "iopub.status.idle": "2025-05-18T18:34:56.634720Z",
     "shell.execute_reply": "2025-05-18T18:34:56.634014Z",
     "shell.execute_reply.started": "2025-05-18T18:34:56.498465Z"
    },
    "tags": []
   },
   "outputs": [],
   "source": [
    "save_predictions_to_csv(test[\"id\"], y_pred_w2v, 'submission_w2v.csv')"
   ]
  },
  {
   "cell_type": "markdown",
   "id": "99ca89de-183c-4bf7-b8b3-135928182ed1",
   "metadata": {
    "tags": []
   },
   "source": [
    "## 3. Эмбеддинг для CNN"
   ]
  },
  {
   "cell_type": "code",
   "execution_count": 23,
   "id": "27d60dd2-e64e-4c9f-a778-f5efa80e73c9",
   "metadata": {
    "execution": {
     "iopub.execute_input": "2025-05-18T20:35:05.218295Z",
     "iopub.status.busy": "2025-05-18T20:35:05.217309Z",
     "iopub.status.idle": "2025-05-18T20:35:05.387421Z",
     "shell.execute_reply": "2025-05-18T20:35:05.386593Z",
     "shell.execute_reply.started": "2025-05-18T20:35:05.218252Z"
    },
    "tags": []
   },
   "outputs": [],
   "source": [
    "morph = MorphAnalyzer()"
   ]
  },
  {
   "cell_type": "code",
   "execution_count": 24,
   "id": "e9204a7f-bf8a-42bc-87f0-e27a51abef29",
   "metadata": {
    "execution": {
     "iopub.execute_input": "2025-05-18T20:35:05.973470Z",
     "iopub.status.busy": "2025-05-18T20:35:05.972591Z",
     "iopub.status.idle": "2025-05-18T20:35:06.016513Z",
     "shell.execute_reply": "2025-05-18T20:35:06.015707Z",
     "shell.execute_reply.started": "2025-05-18T20:35:05.973442Z"
    },
    "tags": []
   },
   "outputs": [],
   "source": [
    "# предобработка текста\n",
    "russian_stopwords = stopwords.words('russian')\n",
    "def clean_text_cnn(text):\n",
    "    text = re.sub(r'http\\S+|www\\.\\S+', '[URL]', text)\n",
    "    text = re.sub(r'@\\S+', '[USER]', text)\n",
    "    text = re.sub(r'#\\S+', '[HASHTAG]', text)\n",
    "    text = re.sub(r'(\\+7|8)\\s?\\(?\\d{3}\\)?[\\s-]?\\d{3}[\\s-]?\\d{2}[\\s-]?\\d{2}\\b', '[PHONE]', text)\n",
    "    text = emoji.demojize(text, delimiters=(\" \", \" \"))\n",
    "    text = re.sub(r'[^a-zA-Zа-яА-ЯёЁ0-9\\s\\-\\.,!?;:\\[\\]]', ' ', text)\n",
    "    text = text.lower()\n",
    "    words = text.split()\n",
    "    cleaned_words = []\n",
    "    for word in words:\n",
    "        if word not in russian_stopwords and len(word) > 2:\n",
    "            parsed = morph.parse(word)[0]\n",
    "            lemma = parsed.normal_form\n",
    "            cleaned_words.append(lemma)\n",
    "    \n",
    "    return ' '.join(cleaned_words)"
   ]
  },
  {
   "cell_type": "code",
   "execution_count": 25,
   "id": "bc732592-784e-4396-b562-904d586c1439",
   "metadata": {
    "execution": {
     "iopub.execute_input": "2025-05-18T20:35:13.015958Z",
     "iopub.status.busy": "2025-05-18T20:35:13.015011Z",
     "iopub.status.idle": "2025-05-18T20:35:13.032569Z",
     "shell.execute_reply": "2025-05-18T20:35:13.031941Z",
     "shell.execute_reply.started": "2025-05-18T20:35:13.015920Z"
    },
    "tags": []
   },
   "outputs": [],
   "source": [
    "class TextProcessor:\n",
    "    def __init__(self, max_length: int = 100):\n",
    "        self.word2idx: Dict[str, int] = {}  \n",
    "        self.idx2word: Dict[int, str] = {} \n",
    "        self.max_length = max_length\n",
    "        self.special_tokens = ['<pad>', '<unk>']\n",
    "        self._init_special_tokens()\n",
    "    \n",
    "    def _init_special_tokens(self):\n",
    "        for i, token in enumerate(self.special_tokens):\n",
    "            self.word2idx[token] = i\n",
    "            self.idx2word[i] = token\n",
    "    \n",
    "    def build_vocab(self, texts: List[str], min_freq: int = 2):\n",
    "        word_counts = Counter()\n",
    "        for text in texts:\n",
    "            lemmas = clean_text_cnn(text)\n",
    "            word_counts.update(lemmas)\n",
    "        filtered_words = [word for word, count in word_counts.items() \n",
    "                         if count >= min_freq and word not in self.word2idx]\n",
    "\n",
    "        for idx, word in enumerate(filtered_words, start=len(self.special_tokens)):\n",
    "            self.word2idx[word] = idx\n",
    "            self.idx2word[idx] = word\n",
    "        \n",
    "\n",
    "        self.vocab_size = len(self.word2idx)\n",
    "    \n",
    "    def text_to_sequence(self, text: str) -> torch.Tensor:\n",
    "        lemmas = clean_text_cnn(text)\n",
    "        \n",
    "        sequence = [\n",
    "            self.word2idx.get(lemma, self.word2idx['<unk>'])\n",
    "            for lemma in lemmas[:self.max_length]\n",
    "        ]\n",
    "        \n",
    "        return torch.tensor(sequence, dtype=torch.long)\n",
    "    \n",
    "    def collate_fn(self, batch: List[Tuple[str, torch.Tensor]]) -> Tuple[torch.Tensor, torch.Tensor]:\n",
    "        texts, labels = zip(*batch)\n",
    "        \n",
    "        sequences = [self.text_to_sequence(text) for text in texts]\n",
    "       \n",
    "        padded_sequences = pad_sequence(\n",
    "            sequences,\n",
    "            batch_first=True,\n",
    "            padding_value=self.word2idx['<pad>']\n",
    "        )\n",
    "\n",
    "        labels_tensor = torch.stack(labels)\n",
    "        \n",
    "        return padded_sequences, labels_tensor\n",
    "    \n",
    "    def __len__(self) -> int:\n",
    "        return len(self.word2idx)"
   ]
  },
  {
   "cell_type": "code",
   "execution_count": 61,
   "id": "a0a1d041-a5bc-49b7-85ae-209d09b0a863",
   "metadata": {
    "execution": {
     "iopub.execute_input": "2025-05-18T23:55:37.909320Z",
     "iopub.status.busy": "2025-05-18T23:55:37.908299Z",
     "iopub.status.idle": "2025-05-18T23:55:37.922339Z",
     "shell.execute_reply": "2025-05-18T23:55:37.921662Z",
     "shell.execute_reply.started": "2025-05-18T23:55:37.909275Z"
    },
    "tags": []
   },
   "outputs": [],
   "source": [
    "class TextCNN(nn.Module):\n",
    "    def __init__(self, vocab_size: int, embedding_dim: int, num_classes: int, pad_idx: int):\n",
    "        super(TextCNN, self).__init__()\n",
    "        self.embedding = nn.Embedding(vocab_size, embedding_dim, padding_idx=pad_idx)\n",
    "\n",
    "        self.conv1 = nn.Conv1d(in_channels=embedding_dim, out_channels=128, kernel_size=3, padding=1)\n",
    "        self.conv2 = nn.Conv1d(in_channels=128, out_channels=128, kernel_size=4, padding=2)\n",
    "        self.conv3 = nn.Conv1d(in_channels=128, out_channels=128, kernel_size=5, padding=2)\n",
    "\n",
    "        self.dropout = nn.Dropout(0.5)\n",
    "        self.pool = nn.AdaptiveMaxPool1d(1)  # фиксируем размерность\n",
    "        self.fc = nn.Linear(128 * 3, num_classes)  # 3 conv слоя × 128 каналов = 384\n",
    "\n",
    "    def forward(self, x):\n",
    "        x = self.embedding(x)               # (B, L, E)\n",
    "        x = x.permute(0, 2, 1)              # (B, E, L)\n",
    "\n",
    "        x1 = F.relu(self.conv1(x))          # (B, C, L)\n",
    "        x2 = F.relu(self.conv2(x))\n",
    "        x3 = F.relu(self.conv3(x))\n",
    "\n",
    "        x1 = self.pool(x1).squeeze(-1)      # (B, C)\n",
    "        x2 = self.pool(x2).squeeze(-1)\n",
    "        x3 = self.pool(x3).squeeze(-1)\n",
    "\n",
    "        x = torch.cat([x1, x2, x3], dim=1)  # (B, 3C)\n",
    "        x = self.dropout(x)\n",
    "        x = self.fc(x)                      # (B, num_classes)\n",
    "\n",
    "        return x\n"
   ]
  },
  {
   "cell_type": "code",
   "execution_count": 37,
   "id": "68efc7b6-dabc-413c-958a-c7bcb5000a57",
   "metadata": {
    "execution": {
     "iopub.execute_input": "2025-05-18T20:50:25.241436Z",
     "iopub.status.busy": "2025-05-18T20:50:25.240441Z",
     "iopub.status.idle": "2025-05-18T20:50:25.262117Z",
     "shell.execute_reply": "2025-05-18T20:50:25.261499Z",
     "shell.execute_reply.started": "2025-05-18T20:50:25.241391Z"
    },
    "tags": []
   },
   "outputs": [],
   "source": [
    "from torch.utils.data import Dataset, DataLoader\n",
    "from sklearn.preprocessing import MultiLabelBinarizer\n",
    "\n",
    "class TextDataset(Dataset):\n",
    "    def __init__(self, texts, labels, processor, mlb):\n",
    "        self.texts = [clean_text_cnn(t) for t in texts]\n",
    "        self.labels = torch.FloatTensor(labels)\n",
    "        self.processor = processor\n",
    "\n",
    "    def __len__(self):\n",
    "        return len(self.texts)\n",
    "\n",
    "    def __getitem__(self, idx):\n",
    "        return self.texts[idx], self.labels[idx]"
   ]
  },
  {
   "cell_type": "code",
   "execution_count": 35,
   "id": "ee3df7e8-0645-4f32-b84f-801cde163020",
   "metadata": {
    "execution": {
     "iopub.execute_input": "2025-05-18T20:46:37.262002Z",
     "iopub.status.busy": "2025-05-18T20:46:37.260869Z",
     "iopub.status.idle": "2025-05-18T20:50:02.733869Z",
     "shell.execute_reply": "2025-05-18T20:50:02.733146Z",
     "shell.execute_reply.started": "2025-05-18T20:46:37.261958Z"
    },
    "tags": []
   },
   "outputs": [
    {
     "data": {
      "text/html": [
       "<style>#sk-container-id-2 {color: black;background-color: white;}#sk-container-id-2 pre{padding: 0;}#sk-container-id-2 div.sk-toggleable {background-color: white;}#sk-container-id-2 label.sk-toggleable__label {cursor: pointer;display: block;width: 100%;margin-bottom: 0;padding: 0.3em;box-sizing: border-box;text-align: center;}#sk-container-id-2 label.sk-toggleable__label-arrow:before {content: \"▸\";float: left;margin-right: 0.25em;color: #696969;}#sk-container-id-2 label.sk-toggleable__label-arrow:hover:before {color: black;}#sk-container-id-2 div.sk-estimator:hover label.sk-toggleable__label-arrow:before {color: black;}#sk-container-id-2 div.sk-toggleable__content {max-height: 0;max-width: 0;overflow: hidden;text-align: left;background-color: #f0f8ff;}#sk-container-id-2 div.sk-toggleable__content pre {margin: 0.2em;color: black;border-radius: 0.25em;background-color: #f0f8ff;}#sk-container-id-2 input.sk-toggleable__control:checked~div.sk-toggleable__content {max-height: 200px;max-width: 100%;overflow: auto;}#sk-container-id-2 input.sk-toggleable__control:checked~label.sk-toggleable__label-arrow:before {content: \"▾\";}#sk-container-id-2 div.sk-estimator input.sk-toggleable__control:checked~label.sk-toggleable__label {background-color: #d4ebff;}#sk-container-id-2 div.sk-label input.sk-toggleable__control:checked~label.sk-toggleable__label {background-color: #d4ebff;}#sk-container-id-2 input.sk-hidden--visually {border: 0;clip: rect(1px 1px 1px 1px);clip: rect(1px, 1px, 1px, 1px);height: 1px;margin: -1px;overflow: hidden;padding: 0;position: absolute;width: 1px;}#sk-container-id-2 div.sk-estimator {font-family: monospace;background-color: #f0f8ff;border: 1px dotted black;border-radius: 0.25em;box-sizing: border-box;margin-bottom: 0.5em;}#sk-container-id-2 div.sk-estimator:hover {background-color: #d4ebff;}#sk-container-id-2 div.sk-parallel-item::after {content: \"\";width: 100%;border-bottom: 1px solid gray;flex-grow: 1;}#sk-container-id-2 div.sk-label:hover label.sk-toggleable__label {background-color: #d4ebff;}#sk-container-id-2 div.sk-serial::before {content: \"\";position: absolute;border-left: 1px solid gray;box-sizing: border-box;top: 0;bottom: 0;left: 50%;z-index: 0;}#sk-container-id-2 div.sk-serial {display: flex;flex-direction: column;align-items: center;background-color: white;padding-right: 0.2em;padding-left: 0.2em;position: relative;}#sk-container-id-2 div.sk-item {position: relative;z-index: 1;}#sk-container-id-2 div.sk-parallel {display: flex;align-items: stretch;justify-content: center;background-color: white;position: relative;}#sk-container-id-2 div.sk-item::before, #sk-container-id-2 div.sk-parallel-item::before {content: \"\";position: absolute;border-left: 1px solid gray;box-sizing: border-box;top: 0;bottom: 0;left: 50%;z-index: -1;}#sk-container-id-2 div.sk-parallel-item {display: flex;flex-direction: column;z-index: 1;position: relative;background-color: white;}#sk-container-id-2 div.sk-parallel-item:first-child::after {align-self: flex-end;width: 50%;}#sk-container-id-2 div.sk-parallel-item:last-child::after {align-self: flex-start;width: 50%;}#sk-container-id-2 div.sk-parallel-item:only-child::after {width: 0;}#sk-container-id-2 div.sk-dashed-wrapped {border: 1px dashed gray;margin: 0 0.4em 0.5em 0.4em;box-sizing: border-box;padding-bottom: 0.4em;background-color: white;}#sk-container-id-2 div.sk-label label {font-family: monospace;font-weight: bold;display: inline-block;line-height: 1.2em;}#sk-container-id-2 div.sk-label-container {text-align: center;}#sk-container-id-2 div.sk-container {/* jupyter's `normalize.less` sets `[hidden] { display: none; }` but bootstrap.min.css set `[hidden] { display: none !important; }` so we also need the `!important` here to be able to override the default hidden behavior on the sphinx rendered scikit-learn.org. See: https://github.com/scikit-learn/scikit-learn/issues/21755 */display: inline-block !important;position: relative;}#sk-container-id-2 div.sk-text-repr-fallback {display: none;}</style><div id=\"sk-container-id-2\" class=\"sk-top-container\"><div class=\"sk-text-repr-fallback\"><pre>MultiLabelBinarizer()</pre><b>In a Jupyter environment, please rerun this cell to show the HTML representation or trust the notebook. <br />On GitHub, the HTML representation is unable to render, please try loading this page with nbviewer.org.</b></div><div class=\"sk-container\" hidden><div class=\"sk-item\"><div class=\"sk-estimator sk-toggleable\"><input class=\"sk-toggleable__control sk-hidden--visually\" id=\"sk-estimator-id-2\" type=\"checkbox\" checked><label for=\"sk-estimator-id-2\" class=\"sk-toggleable__label sk-toggleable__label-arrow\">MultiLabelBinarizer</label><div class=\"sk-toggleable__content\"><pre>MultiLabelBinarizer()</pre></div></div></div></div></div>"
      ],
      "text/plain": [
       "MultiLabelBinarizer()"
      ]
     },
     "execution_count": 35,
     "metadata": {},
     "output_type": "execute_result"
    }
   ],
   "source": [
    "processor = TextProcessor(max_length=100)\n",
    "processor.build_vocab(train_texts)\n",
    "\n",
    "mlb = MultiLabelBinarizer()\n",
    "mlb.fit(train_labels)"
   ]
  },
  {
   "cell_type": "code",
   "execution_count": 38,
   "id": "ee7e32ff-c457-4caf-bd1e-123a2dc60173",
   "metadata": {
    "execution": {
     "iopub.execute_input": "2025-05-18T20:50:33.980346Z",
     "iopub.status.busy": "2025-05-18T20:50:33.979456Z",
     "iopub.status.idle": "2025-05-18T20:53:44.938145Z",
     "shell.execute_reply": "2025-05-18T20:53:44.937493Z",
     "shell.execute_reply.started": "2025-05-18T20:50:33.980308Z"
    },
    "tags": []
   },
   "outputs": [],
   "source": [
    "train_dataset = TextDataset(train_texts, train_labels, processor, mlb)\n",
    "train_loader = DataLoader(train_dataset, batch_size=32, shuffle=True, collate_fn=processor.collate_fn)"
   ]
  },
  {
   "cell_type": "code",
   "execution_count": 62,
   "id": "d261add2-49a6-4bec-a5a7-79e7331774e1",
   "metadata": {
    "execution": {
     "iopub.execute_input": "2025-05-18T23:55:41.141309Z",
     "iopub.status.busy": "2025-05-18T23:55:41.140226Z",
     "iopub.status.idle": "2025-05-18T23:55:42.475744Z",
     "shell.execute_reply": "2025-05-18T23:55:42.474976Z",
     "shell.execute_reply.started": "2025-05-18T23:55:41.141262Z"
    },
    "tags": []
   },
   "outputs": [],
   "source": [
    "model_cnn = TextCNN(vocab_size=len(processor), \n",
    "                    embedding_dim=100, \n",
    "                    num_classes=len(mlb.classes_), \n",
    "                    pad_idx=processor.word2idx['<pad>']).to(device)\n",
    "optimizer = torch.optim.Adam(model_cnn.parameters(), lr=1e-3)\n",
    "criterion = nn.BCEWithLogitsLoss()"
   ]
  },
  {
   "cell_type": "code",
   "execution_count": 64,
   "id": "e8f191ab-bf54-4da5-a6e0-cbb5805df4d7",
   "metadata": {
    "execution": {
     "iopub.execute_input": "2025-05-18T23:57:39.360255Z",
     "iopub.status.busy": "2025-05-18T23:57:39.359314Z",
     "iopub.status.idle": "2025-05-18T23:57:39.384203Z",
     "shell.execute_reply": "2025-05-18T23:57:39.383572Z",
     "shell.execute_reply.started": "2025-05-18T23:57:39.360219Z"
    },
    "tags": []
   },
   "outputs": [],
   "source": [
    "# for epoch in range(10):\n",
    "#     model_cnn.train()\n",
    "#     total_loss = 0\n",
    "#     for inputs, targets in train_loader:\n",
    "#         inputs, targets = inputs.to(device), targets.to(device)\n",
    "#         optimizer.zero_grad()\n",
    "#         outputs = model_cnn(inputs)\n",
    "#         loss = criterion(outputs, targets)\n",
    "#         loss.backward()\n",
    "#         optimizer.step()\n",
    "#         total_loss += loss.item()\n",
    "#     print(f\"Epoch {epoch+1}, Loss: {total_loss:.4f}\")"
   ]
  },
  {
   "cell_type": "markdown",
   "id": "4d13a24e-d443-4b0a-b663-9fe024616a5f",
   "metadata": {
    "tags": []
   },
   "source": [
    "## 4. Эмбеддинг для RNN"
   ]
  },
  {
   "cell_type": "code",
   "execution_count": 65,
   "id": "201f0463-13ed-4221-b753-f14d1de6b6d4",
   "metadata": {
    "execution": {
     "iopub.execute_input": "2025-05-18T23:57:44.690797Z",
     "iopub.status.busy": "2025-05-18T23:57:44.689806Z",
     "iopub.status.idle": "2025-05-18T23:57:44.709181Z",
     "shell.execute_reply": "2025-05-18T23:57:44.708471Z",
     "shell.execute_reply.started": "2025-05-18T23:57:44.690754Z"
    },
    "tags": []
   },
   "outputs": [],
   "source": [
    "def clean_text_rnn(text: str) -> str:\n",
    "    text = re.sub(r'http\\S+|www\\.\\S+', '[URL]', text)\n",
    "    text = re.sub(r'@\\S+', '[USER]', text)\n",
    "    text = re.sub(r'#\\S+', '[HASHTAG]', text)\n",
    "    text = re.sub(r'(\\+7|8)\\s?\\(?\\d{3}\\)?[\\s-]?\\d{3}[\\s-]?\\d{2}[\\s-]?\\d{2}\\b', '[PHONE]', text)\n",
    "    text = emoji.demojize(text, delimiters=(\" \", \" \"))\n",
    "    text = re.sub(r'[^a-zA-Zа-яА-ЯёЁ0-9\\s\\-\\.,!?;:’\\'\"\\[\\]]', ' ', text)\n",
    "    text = text.lower()\n",
    "    words = []\n",
    "    for word in text.split():\n",
    "        if word not in stopwords:  # Только стоп-слова\n",
    "            parsed = morph.parse(word)[0]\n",
    "            words.append(parsed.normal_form)\n",
    "    \n",
    "    return ' '.join(words)"
   ]
  },
  {
   "cell_type": "markdown",
   "id": "9a4edf50-6af4-4550-8135-7502a038115f",
   "metadata": {},
   "source": [
    "labels = torch.from_numpy(np.array(train['labels'].tolist())).float()\n",
    "texts = train['text'].tolist()"
   ]
  },
  {
   "cell_type": "code",
   "execution_count": 66,
   "id": "49910ab4-bc5f-45cc-8751-f1ed1705526e",
   "metadata": {
    "execution": {
     "iopub.execute_input": "2025-05-18T23:57:46.821842Z",
     "iopub.status.busy": "2025-05-18T23:57:46.820936Z",
     "iopub.status.idle": "2025-05-18T23:57:46.870084Z",
     "shell.execute_reply": "2025-05-18T23:57:46.869316Z",
     "shell.execute_reply.started": "2025-05-18T23:57:46.821801Z"
    },
    "tags": []
   },
   "outputs": [],
   "source": [
    "class TextProcessorRNN:\n",
    "    def __init__(self, max_len=100):\n",
    "        self.word2idx = {'<pad>': 0, '<unk>': 1}\n",
    "        self.idx2word = {0: '<pad>', 1: '<unk>'}\n",
    "        self.max_len = max_len\n",
    "    \n",
    "    def build_vocab(self, texts, min_freq=2):\n",
    "        counter = Counter()\n",
    "        for text in texts:\n",
    "            cleaned = clean_text_rnn(text)\n",
    "            words = cleaned.split()\n",
    "            counter.update(words)\n",
    "        \n",
    "        for word, freq in counter.items():\n",
    "            if freq >= min_freq and word not in self.word2idx:\n",
    "                idx = len(self.word2idx)\n",
    "                self.word2idx[word] = idx\n",
    "                self.idx2word[idx] = word\n",
    "    \n",
    "    def text_to_sequence(self, text):\n",
    "        cleaned = clean_text_rnn(text)  # Очистка перед преобразованием\n",
    "        words = cleaned.split()[:self.max_len]\n",
    "        return torch.tensor([\n",
    "            self.word2idx.get(word, self.word2idx['<unk>']) for word in words\n",
    "        ], dtype=torch.long)\n",
    "    \n",
    "    def collate_fn(self, batch):\n",
    "        texts, labels = zip(*batch)\n",
    "        sequences = [self.text_to_sequence(txt) for txt in texts]\n",
    "        padded = pad_sequence(sequences, batch_first=True, padding_value=self.word2idx['<pad>'])\n",
    "        return padded, torch.stack(labels)"
   ]
  },
  {
   "cell_type": "markdown",
   "id": "023c3217-464a-4672-9506-38302d2cc8a1",
   "metadata": {
    "tags": []
   },
   "source": [
    "## 5. Эмбеддинг и модель для BERT"
   ]
  },
  {
   "cell_type": "code",
   "execution_count": null,
   "id": "5e47ee12-dee5-46bf-add6-7e4e493de9a5",
   "metadata": {
    "execution": {
     "iopub.status.busy": "2025-05-17T18:18:50.486854Z",
     "iopub.status.idle": "2025-05-17T18:18:50.487205Z",
     "shell.execute_reply": "2025-05-17T18:18:50.487057Z",
     "shell.execute_reply.started": "2025-05-17T18:18:50.487040Z"
    },
    "tags": []
   },
   "outputs": [],
   "source": [
    "def clean_text_bert(text: str) -> str:\n",
    "    text = re.sub(r'http\\S+|www\\.\\S+', '[URL]', text)\n",
    "    text = re.sub(r'@\\S+', '[USER]', text)\n",
    "    text = re.sub(r'#\\S+', '[HASHTAG]', text)\n",
    "    text = re.sub(r'(\\+7|8)\\s?\\(?\\d{3}\\)?[\\s-]?\\d{3}[\\s-]?\\d{2}[\\s-]?\\d{2}\\b', '[PHONE]', text)\n",
    "    text = emoji.demojize(text, delimiters=(\" \", \" \"))\n",
    "    text = re.sub(r'[^\\w\\s.,!?;:\\-\\'\"()\\[\\]%$]', ' ', text)\n",
    "    return text.strip()"
   ]
  },
  {
   "cell_type": "code",
   "execution_count": null,
   "id": "4552691f-9e5e-47b1-af7d-788725987fb8",
   "metadata": {
    "execution": {
     "iopub.status.busy": "2025-05-17T18:18:50.488092Z",
     "iopub.status.idle": "2025-05-17T18:18:50.488469Z",
     "shell.execute_reply": "2025-05-17T18:18:50.488321Z",
     "shell.execute_reply.started": "2025-05-17T18:18:50.488303Z"
    },
    "tags": []
   },
   "outputs": [],
   "source": [
    "class BertMultiLabelDataset(Dataset):\n",
    "    def __init__(self, texts, labels, tokenizer, max_len=128):\n",
    "        self.texts = [clean_text_bert(t) for t in texts]\n",
    "        self.labels = torch.FloatTensor(labels)\n",
    "        self.tokenizer = tokenizer\n",
    "        self.max_len = max_len\n",
    "    \n",
    "    def __len__(self):\n",
    "        return len(self.texts)\n",
    "    \n",
    "    def __getitem__(self, idx):\n",
    "        encoding = self.tokenizer(\n",
    "            self.texts[idx],\n",
    "            max_length=self.max_len,\n",
    "            padding='max_length',\n",
    "            truncation=True,\n",
    "            return_tensors='pt'\n",
    "        )\n",
    "        return {\n",
    "            'input_ids': encoding['input_ids'].flatten(),\n",
    "            'attention_mask': encoding['attention_mask'].flatten(),\n",
    "            'labels': self.labels[idx]\n",
    "        }\n",
    "\n",
    "def calculate_class_weights(labels):\n",
    "    pos_counts = np.sum(labels, axis=0)\n",
    "    neg_counts = len(labels) - pos_counts\n",
    "    weights = neg_counts / (pos_counts + 1e-6)\n",
    "    return torch.FloatTensor(weights)\n",
    "\n",
    "def multi_label_f1(y_true, y_pred):\n",
    "    return f1_score(y_true, y_pred, average='weighted', zero_division=0)"
   ]
  },
  {
   "cell_type": "code",
   "execution_count": null,
   "id": "e139aa2d-a585-4bb2-9028-7345e6f76a40",
   "metadata": {},
   "outputs": [],
   "source": [
    "class BertMultiLabelTestDataset(Dataset):\n",
    "    def __init__(self, test, tokenizer, max_len=128, labels=None):\n",
    "        self.texts = [clean_text_bert(t) for t in test[\"text\"].tolist()]\n",
    "        self.ids = test[\"id\"].tolist()\n",
    "        self.tokenizer = tokenizer\n",
    "        self.max_len = max_len\n",
    "        self.has_labels = labels is not None\n",
    "        if self.has_labels:\n",
    "            self.labels = torch.FloatTensor(labels)\n",
    "    \n",
    "    def __len__(self):\n",
    "        return len(self.texts)\n",
    "    \n",
    "    def __getitem__(self, idx):\n",
    "        encoding = self.tokenizer(\n",
    "            self.texts[idx],\n",
    "            max_length=self.max_len,\n",
    "            padding='max_length',\n",
    "            truncation=True,\n",
    "            return_tensors='pt'\n",
    "        )\n",
    "        item = {\n",
    "            'input_ids': encoding['input_ids'].flatten(),\n",
    "            'attention_mask': encoding['attention_mask'].flatten(),\n",
    "            'id': self.ids[idx]\n",
    "        }\n",
    "        if self.has_labels:\n",
    "            item['labels'] = self.labels[idx]\n",
    "        return item"
   ]
  },
  {
   "cell_type": "code",
   "execution_count": null,
   "id": "aa501e1e-8381-40dc-8c2d-d564178eb1e7",
   "metadata": {
    "execution": {
     "iopub.status.busy": "2025-05-17T18:18:50.490864Z",
     "iopub.status.idle": "2025-05-17T18:18:50.492604Z",
     "shell.execute_reply": "2025-05-17T18:18:50.492404Z",
     "shell.execute_reply.started": "2025-05-17T18:18:50.492366Z"
    },
    "tags": []
   },
   "outputs": [],
   "source": [
    "class_weights = calculate_class_weights(np.array(labels))"
   ]
  },
  {
   "cell_type": "code",
   "execution_count": null,
   "id": "ce3a4edc-0f88-4f2a-afce-dbb6d135f20c",
   "metadata": {
    "execution": {
     "iopub.status.busy": "2025-05-17T18:18:50.493543Z",
     "iopub.status.idle": "2025-05-17T18:18:50.494127Z",
     "shell.execute_reply": "2025-05-17T18:18:50.494004Z",
     "shell.execute_reply.started": "2025-05-17T18:18:50.493982Z"
    },
    "tags": []
   },
   "outputs": [],
   "source": [
    "model = AutoModelForSequenceClassification.from_pretrained(\n",
    "    \"DeepPavlov/rubert-base-cased\",\n",
    "    num_labels=len(labels[0]),\n",
    "    problem_type=\"multi_label_classification\"\n",
    ").to(device)"
   ]
  },
  {
   "cell_type": "code",
   "execution_count": null,
   "id": "968bd0ab-5491-4eb2-af9f-724799d7f70f",
   "metadata": {},
   "outputs": [],
   "source": [
    "tokenizer = AutoTokenizer.from_pretrained(\"DeepPavlov/rubert-base-cased\")"
   ]
  },
  {
   "cell_type": "code",
   "execution_count": null,
   "id": "2055314d-e454-4a39-ae5f-dbddd353755b",
   "metadata": {
    "execution": {
     "iopub.status.busy": "2025-05-17T18:18:50.495090Z",
     "iopub.status.idle": "2025-05-17T18:18:50.495662Z",
     "shell.execute_reply": "2025-05-17T18:18:50.495548Z",
     "shell.execute_reply.started": "2025-05-17T18:18:50.495528Z"
    },
    "tags": []
   },
   "outputs": [],
   "source": [
    "train_dataset = BertMultiLabelDataset(train_texts, train_labels, tokenizer)\n",
    "val_dataset = BertMultiLabelDataset(val_texts, val_labels, tokenizer)\n",
    "test_dataset = BertMultiLabelTestDataset(test, tokenizer)\n",
    "\n",
    "train_loader = DataLoader(train_dataset, batch_size=32, shuffle=True)\n",
    "val_loader = DataLoader(val_dataset, batch_size=32)\n",
    "test_loader = DataLoader(test_dataset, batch_size=32)\n",
    "\n",
    "optimizer = AdamW(model.parameters(), lr=2e-5)\n",
    "loss_func = torch.nn.BCEWithLogitsLoss(pos_weight=class_weights.to(device))"
   ]
  },
  {
   "cell_type": "code",
   "execution_count": null,
   "id": "b6601a26-3169-446f-8834-95452e403f89",
   "metadata": {
    "execution": {
     "iopub.status.busy": "2025-05-17T18:18:50.496295Z",
     "iopub.status.idle": "2025-05-17T18:18:50.496560Z",
     "shell.execute_reply": "2025-05-17T18:18:50.496458Z",
     "shell.execute_reply.started": "2025-05-17T18:18:50.496443Z"
    },
    "tags": []
   },
   "outputs": [],
   "source": [
    "for epoch in range(10):\n",
    "    model.train()\n",
    "    epoch_loss = 0\n",
    "    \n",
    "    train_progress = tqdm(train_loader, \n",
    "                         desc=f'Epoch {epoch+1}/5', \n",
    "                         leave=False,\n",
    "                         bar_format='{l_bar}{bar:20}{r_bar}{bar:-20b}')\n",
    "    \n",
    "    for batch in train_progress:\n",
    "        optimizer.zero_grad()\n",
    "        inputs = {\n",
    "            'input_ids': batch['input_ids'].to(device),\n",
    "            'attention_mask': batch['attention_mask'].to(device)\n",
    "        }\n",
    "        labels_batch = batch['labels'].to(device)\n",
    "        \n",
    "        outputs = model(**inputs)\n",
    "        loss = loss_func(outputs.logits, labels_batch)\n",
    "        loss.backward()\n",
    "        optimizer.step()\n",
    "        \n",
    "        epoch_loss += loss.item()\n",
    "        train_progress.set_postfix({'loss': f'{loss.item():.4f}'})\n",
    "    \n",
    "    print(f'Epoch {epoch+1} - Avg Loss: {epoch_loss/len(train_loader):.4f}')\n",
    "\n",
    "def evaluate(model, test_loader, device):\n",
    "    model.eval()\n",
    "    all_preds = []\n",
    "    all_true = []\n",
    "    \n",
    "    # прогресс-бар\n",
    "    eval_progress = tqdm(test_loader, \n",
    "                        desc='Evaluating', \n",
    "                        leave=False,\n",
    "                        bar_format='{l_bar}{bar:20}{r_bar}{bar:-20b}')\n",
    "    \n",
    "    with torch.no_grad():\n",
    "        for batch in eval_progress:\n",
    "            inputs = {\n",
    "                'input_ids': batch['input_ids'].to(device),\n",
    "                'attention_mask': batch['attention_mask'].to(device)\n",
    "            }\n",
    "            labels = batch['labels'].cpu().numpy()\n",
    "            \n",
    "            logits = model(**inputs).logits\n",
    "            probs = torch.sigmoid(logits).cpu().numpy()\n",
    "            preds = (probs > 0.3).astype(int)\n",
    "            \n",
    "            all_preds.extend(preds)\n",
    "            all_true.extend(labels)\n",
    "    \n",
    "    print(\"\\n\" + \"=\"*50)\n",
    "    print(\"Результаты на тестовой выборке:\")\n",
    "    print(classification_report(\n",
    "        np.array(all_true),\n",
    "        np.array(all_preds),\n",
    "        target_names=[f'label_{i}' for i in range(20)],\n",
    "        digits=4\n",
    "    ))\n",
    "    print(\"=\"*50 + \"\\n\")"
   ]
  },
  {
   "cell_type": "code",
   "execution_count": null,
   "id": "48b57f70-34cf-492c-9b0f-1582d7fcac34",
   "metadata": {},
   "outputs": [],
   "source": [
    "print(\"\\nНачинаем оценку модели...\")\n",
    "evaluate(model, val_loader, device)"
   ]
  },
  {
   "cell_type": "code",
   "execution_count": null,
   "id": "10edefb4-08df-4fa7-8fa3-accde96491aa",
   "metadata": {
    "execution": {
     "iopub.status.busy": "2025-05-17T18:18:50.498956Z",
     "iopub.status.idle": "2025-05-17T18:18:50.499252Z",
     "shell.execute_reply": "2025-05-17T18:18:50.499128Z",
     "shell.execute_reply.started": "2025-05-17T18:18:50.499112Z"
    }
   },
   "outputs": [],
   "source": [
    "ids, y_pred_bert = predict_for_csv(model, test_loader, device)\n",
    "save_predictions_to_csv(ids, y_pred_bert, 'bert_submission.csv')"
   ]
  },
  {
   "cell_type": "markdown",
   "id": "2f599bf8-7b7a-44c1-b949-e0c89b5f43b8",
   "metadata": {},
   "source": [
    "# Повторное сохранение предикта, выбившего скор на кагле (на прайвате, на паблике был берт)"
   ]
  },
  {
   "cell_type": "code",
   "execution_count": null,
   "id": "944601d6-610f-41c4-8d00-db417f1eac2f",
   "metadata": {},
   "outputs": [],
   "source": [
    "save_predictions_to_csv(test[\"id\"], y_pred_w2v, 'kaggle_finish.csv')"
   ]
  }
 ],
 "metadata": {
  "kernelspec": {
   "display_name": "Python 3 (ipykernel)",
   "language": "python",
   "name": "python3"
  },
  "language_info": {
   "codemirror_mode": {
    "name": "ipython",
    "version": 3
   },
   "file_extension": ".py",
   "mimetype": "text/x-python",
   "name": "python",
   "nbconvert_exporter": "python",
   "pygments_lexer": "ipython3",
   "version": "3.11.5"
  }
 },
 "nbformat": 4,
 "nbformat_minor": 5
}
